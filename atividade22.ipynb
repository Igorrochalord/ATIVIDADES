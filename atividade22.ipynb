{
 "cells": [
  {
   "cell_type": "code",
   "execution_count": 2,
   "metadata": {},
   "outputs": [],
   "source": [
    "import plotly.express as px\n",
    "import pandas as pd"
   ]
  },
  {
   "cell_type": "code",
   "execution_count": 3,
   "metadata": {},
   "outputs": [],
   "source": [
    "df = px.data.gapminder().query('year==2007')"
   ]
  },
  {
   "cell_type": "code",
   "execution_count": 4,
   "metadata": {},
   "outputs": [
    {
     "data": {
      "text/html": [
       "<div>\n",
       "<style scoped>\n",
       "    .dataframe tbody tr th:only-of-type {\n",
       "        vertical-align: middle;\n",
       "    }\n",
       "\n",
       "    .dataframe tbody tr th {\n",
       "        vertical-align: top;\n",
       "    }\n",
       "\n",
       "    .dataframe thead th {\n",
       "        text-align: right;\n",
       "    }\n",
       "</style>\n",
       "<table border=\"1\" class=\"dataframe\">\n",
       "  <thead>\n",
       "    <tr style=\"text-align: right;\">\n",
       "      <th></th>\n",
       "      <th>country</th>\n",
       "      <th>continent</th>\n",
       "      <th>year</th>\n",
       "      <th>lifeExp</th>\n",
       "      <th>pop</th>\n",
       "      <th>gdpPercap</th>\n",
       "      <th>iso_alpha</th>\n",
       "      <th>iso_num</th>\n",
       "    </tr>\n",
       "  </thead>\n",
       "  <tbody>\n",
       "    <tr>\n",
       "      <th>11</th>\n",
       "      <td>Afghanistan</td>\n",
       "      <td>Asia</td>\n",
       "      <td>2007</td>\n",
       "      <td>43.828</td>\n",
       "      <td>31889923</td>\n",
       "      <td>974.580338</td>\n",
       "      <td>AFG</td>\n",
       "      <td>4</td>\n",
       "    </tr>\n",
       "    <tr>\n",
       "      <th>23</th>\n",
       "      <td>Albania</td>\n",
       "      <td>Europe</td>\n",
       "      <td>2007</td>\n",
       "      <td>76.423</td>\n",
       "      <td>3600523</td>\n",
       "      <td>5937.029526</td>\n",
       "      <td>ALB</td>\n",
       "      <td>8</td>\n",
       "    </tr>\n",
       "    <tr>\n",
       "      <th>35</th>\n",
       "      <td>Algeria</td>\n",
       "      <td>Africa</td>\n",
       "      <td>2007</td>\n",
       "      <td>72.301</td>\n",
       "      <td>33333216</td>\n",
       "      <td>6223.367465</td>\n",
       "      <td>DZA</td>\n",
       "      <td>12</td>\n",
       "    </tr>\n",
       "    <tr>\n",
       "      <th>47</th>\n",
       "      <td>Angola</td>\n",
       "      <td>Africa</td>\n",
       "      <td>2007</td>\n",
       "      <td>42.731</td>\n",
       "      <td>12420476</td>\n",
       "      <td>4797.231267</td>\n",
       "      <td>AGO</td>\n",
       "      <td>24</td>\n",
       "    </tr>\n",
       "    <tr>\n",
       "      <th>59</th>\n",
       "      <td>Argentina</td>\n",
       "      <td>Americas</td>\n",
       "      <td>2007</td>\n",
       "      <td>75.320</td>\n",
       "      <td>40301927</td>\n",
       "      <td>12779.379640</td>\n",
       "      <td>ARG</td>\n",
       "      <td>32</td>\n",
       "    </tr>\n",
       "  </tbody>\n",
       "</table>\n",
       "</div>"
      ],
      "text/plain": [
       "        country continent  year  lifeExp       pop     gdpPercap iso_alpha  \\\n",
       "11  Afghanistan      Asia  2007   43.828  31889923    974.580338       AFG   \n",
       "23      Albania    Europe  2007   76.423   3600523   5937.029526       ALB   \n",
       "35      Algeria    Africa  2007   72.301  33333216   6223.367465       DZA   \n",
       "47       Angola    Africa  2007   42.731  12420476   4797.231267       AGO   \n",
       "59    Argentina  Americas  2007   75.320  40301927  12779.379640       ARG   \n",
       "\n",
       "    iso_num  \n",
       "11        4  \n",
       "23        8  \n",
       "35       12  \n",
       "47       24  \n",
       "59       32  "
      ]
     },
     "execution_count": 4,
     "metadata": {},
     "output_type": "execute_result"
    }
   ],
   "source": [
    "df.head()"
   ]
  },
  {
   "cell_type": "code",
   "execution_count": 47,
   "metadata": {},
   "outputs": [
    {
     "ename": "ValueError",
     "evalue": "Mime type rendering requires nbformat>=4.2.0 but it is not installed",
     "output_type": "error",
     "traceback": [
      "\u001b[1;31m---------------------------------------------------------------------------\u001b[0m",
      "\u001b[1;31mValueError\u001b[0m                                Traceback (most recent call last)",
      "File \u001b[1;32m~\\AppData\\Roaming\\Python\\Python311\\site-packages\\IPython\\core\\formatters.py:922\u001b[0m, in \u001b[0;36mIPythonDisplayFormatter.__call__\u001b[1;34m(self, obj)\u001b[0m\n\u001b[0;32m    920\u001b[0m method \u001b[39m=\u001b[39m get_real_method(obj, \u001b[39mself\u001b[39m\u001b[39m.\u001b[39mprint_method)\n\u001b[0;32m    921\u001b[0m \u001b[39mif\u001b[39;00m method \u001b[39mis\u001b[39;00m \u001b[39mnot\u001b[39;00m \u001b[39mNone\u001b[39;00m:\n\u001b[1;32m--> 922\u001b[0m     method()\n\u001b[0;32m    923\u001b[0m     \u001b[39mreturn\u001b[39;00m \u001b[39mTrue\u001b[39;00m\n",
      "File \u001b[1;32mc:\\Users\\curso\\AppData\\Local\\Programs\\Python\\Python311\\Lib\\site-packages\\plotly\\basedatatypes.py:832\u001b[0m, in \u001b[0;36mBaseFigure._ipython_display_\u001b[1;34m(self)\u001b[0m\n\u001b[0;32m    829\u001b[0m \u001b[39mimport\u001b[39;00m \u001b[39mplotly\u001b[39;00m\u001b[39m.\u001b[39;00m\u001b[39mio\u001b[39;00m \u001b[39mas\u001b[39;00m \u001b[39mpio\u001b[39;00m\n\u001b[0;32m    831\u001b[0m \u001b[39mif\u001b[39;00m pio\u001b[39m.\u001b[39mrenderers\u001b[39m.\u001b[39mrender_on_display \u001b[39mand\u001b[39;00m pio\u001b[39m.\u001b[39mrenderers\u001b[39m.\u001b[39mdefault:\n\u001b[1;32m--> 832\u001b[0m     pio\u001b[39m.\u001b[39;49mshow(\u001b[39mself\u001b[39;49m)\n\u001b[0;32m    833\u001b[0m \u001b[39melse\u001b[39;00m:\n\u001b[0;32m    834\u001b[0m     \u001b[39mprint\u001b[39m(\u001b[39mrepr\u001b[39m(\u001b[39mself\u001b[39m))\n",
      "File \u001b[1;32mc:\\Users\\curso\\AppData\\Local\\Programs\\Python\\Python311\\Lib\\site-packages\\plotly\\io\\_renderers.py:394\u001b[0m, in \u001b[0;36mshow\u001b[1;34m(fig, renderer, validate, **kwargs)\u001b[0m\n\u001b[0;32m    389\u001b[0m         \u001b[39mraise\u001b[39;00m \u001b[39mValueError\u001b[39;00m(\n\u001b[0;32m    390\u001b[0m             \u001b[39m\"\u001b[39m\u001b[39mMime type rendering requires ipython but it is not installed\u001b[39m\u001b[39m\"\u001b[39m\n\u001b[0;32m    391\u001b[0m         )\n\u001b[0;32m    393\u001b[0m     \u001b[39mif\u001b[39;00m \u001b[39mnot\u001b[39;00m nbformat \u001b[39mor\u001b[39;00m Version(nbformat\u001b[39m.\u001b[39m__version__) \u001b[39m<\u001b[39m Version(\u001b[39m\"\u001b[39m\u001b[39m4.2.0\u001b[39m\u001b[39m\"\u001b[39m):\n\u001b[1;32m--> 394\u001b[0m         \u001b[39mraise\u001b[39;00m \u001b[39mValueError\u001b[39;00m(\n\u001b[0;32m    395\u001b[0m             \u001b[39m\"\u001b[39m\u001b[39mMime type rendering requires nbformat>=4.2.0 but it is not installed\u001b[39m\u001b[39m\"\u001b[39m\n\u001b[0;32m    396\u001b[0m         )\n\u001b[0;32m    398\u001b[0m     ipython_display\u001b[39m.\u001b[39mdisplay(bundle, raw\u001b[39m=\u001b[39m\u001b[39mTrue\u001b[39;00m)\n\u001b[0;32m    400\u001b[0m \u001b[39m# external renderers\u001b[39;00m\n",
      "\u001b[1;31mValueError\u001b[0m: Mime type rendering requires nbformat>=4.2.0 but it is not installed"
     ]
    },
    {
     "data": {
      "application/vnd.plotly.v1+json": {
       "config": {
        "plotlyServerURL": "https://plot.ly"
       },
       "data": [
        {
         "branchvalues": "total",
         "customdata": [
          [
           43.828
          ],
          [
           76.423
          ],
          [
           72.301
          ],
          [
           42.731
          ],
          [
           75.32
          ],
          [
           81.235
          ],
          [
           79.829
          ],
          [
           75.635
          ],
          [
           64.062
          ],
          [
           79.441
          ],
          [
           56.728
          ],
          [
           65.554
          ],
          [
           74.852
          ],
          [
           50.728
          ],
          [
           72.39
          ],
          [
           73.005
          ],
          [
           52.295
          ],
          [
           49.58
          ],
          [
           59.723
          ],
          [
           50.43
          ],
          [
           80.65300000000002
          ],
          [
           44.74100000000001
          ],
          [
           50.651
          ],
          [
           78.553
          ],
          [
           72.961
          ],
          [
           72.889
          ],
          [
           65.152
          ],
          [
           46.462
          ],
          [
           55.322
          ],
          [
           78.782
          ],
          [
           48.328
          ],
          [
           75.748
          ],
          [
           78.273
          ],
          [
           76.486
          ],
          [
           78.332
          ],
          [
           54.791
          ],
          [
           72.235
          ],
          [
           74.994
          ],
          [
           71.33800000000002
          ],
          [
           71.878
          ],
          [
           51.57899999999999
          ],
          [
           58.03999999999999
          ],
          [
           52.947
          ],
          [
           79.313
          ],
          [
           80.65699999999998
          ],
          [
           56.73500000000001
          ],
          [
           59.448
          ],
          [
           79.406
          ],
          [
           60.02199999999999
          ],
          [
           79.483
          ],
          [
           70.259
          ],
          [
           56.007
          ],
          [
           46.38800000000001
          ],
          [
           60.916
          ],
          [
           70.19800000000001
          ],
          [
           82.208
          ],
          [
           73.33800000000002
          ],
          [
           81.757
          ],
          [
           64.69800000000001
          ],
          [
           70.65
          ],
          [
           70.964
          ],
          [
           59.545
          ],
          [
           78.885
          ],
          [
           80.745
          ],
          [
           80.546
          ],
          [
           72.567
          ],
          [
           82.603
          ],
          [
           72.535
          ],
          [
           54.11
          ],
          [
           67.297
          ],
          [
           78.623
          ],
          [
           77.58800000000002
          ],
          [
           71.993
          ],
          [
           42.592
          ],
          [
           45.678
          ],
          [
           73.952
          ],
          [
           59.443000000000005
          ],
          [
           48.303
          ],
          [
           74.241
          ],
          [
           54.467
          ],
          [
           64.164
          ],
          [
           72.801
          ],
          [
           76.195
          ],
          [
           66.803
          ],
          [
           74.543
          ],
          [
           71.164
          ],
          [
           42.082
          ],
          [
           62.06900000000001
          ],
          [
           52.90600000000001
          ],
          [
           63.785
          ],
          [
           79.762
          ],
          [
           80.204
          ],
          [
           72.899
          ],
          [
           56.867
          ],
          [
           46.859
          ],
          [
           80.196
          ],
          [
           75.64
          ],
          [
           65.483
          ],
          [
           75.53699999999998
          ],
          [
           71.752
          ],
          [
           71.421
          ],
          [
           71.688
          ],
          [
           75.563
          ],
          [
           78.098
          ],
          [
           78.74600000000002
          ],
          [
           76.442
          ],
          [
           72.476
          ],
          [
           46.242
          ],
          [
           65.528
          ],
          [
           72.777
          ],
          [
           63.062
          ],
          [
           74.002
          ],
          [
           42.56800000000001
          ],
          [
           79.972
          ],
          [
           74.663
          ],
          [
           77.926
          ],
          [
           48.159
          ],
          [
           49.339
          ],
          [
           80.941
          ],
          [
           72.396
          ],
          [
           58.55599999999999
          ],
          [
           39.613
          ],
          [
           80.884
          ],
          [
           81.70100000000002
          ],
          [
           74.143
          ],
          [
           78.4
          ],
          [
           52.517
          ],
          [
           70.616
          ],
          [
           58.42
          ],
          [
           69.819
          ],
          [
           73.923
          ],
          [
           71.777
          ],
          [
           51.542
          ],
          [
           79.425
          ],
          [
           78.242
          ],
          [
           76.384
          ],
          [
           73.747
          ],
          [
           74.249
          ],
          [
           73.422
          ],
          [
           62.698
          ],
          [
           42.38399999999999
          ],
          [
           43.487
          ],
          [
           54.56441057558197
          ],
          [
           75.35668222743027
          ],
          [
           69.44386304205017
          ],
          [
           77.89057081069897
          ],
          [
           81.06215400970112
          ],
          [
           68.91909251904043
          ]
         ],
         "domain": {
          "x": [
           0,
           1
          ],
          "y": [
           0,
           1
          ]
         },
         "hovertemplate": "labels=%{label}<br>pop=%{value}<br>parent=%{parent}<br>id=%{id}<br>lifeExp=%{color}<extra></extra>",
         "ids": [
          "World/Asia/Afghanistan",
          "World/Europe/Albania",
          "World/Africa/Algeria",
          "World/Africa/Angola",
          "World/Americas/Argentina",
          "World/Oceania/Australia",
          "World/Europe/Austria",
          "World/Asia/Bahrain",
          "World/Asia/Bangladesh",
          "World/Europe/Belgium",
          "World/Africa/Benin",
          "World/Americas/Bolivia",
          "World/Europe/Bosnia and Herzegovina",
          "World/Africa/Botswana",
          "World/Americas/Brazil",
          "World/Europe/Bulgaria",
          "World/Africa/Burkina Faso",
          "World/Africa/Burundi",
          "World/Asia/Cambodia",
          "World/Africa/Cameroon",
          "World/Americas/Canada",
          "World/Africa/Central African Republic",
          "World/Africa/Chad",
          "World/Americas/Chile",
          "World/Asia/China",
          "World/Americas/Colombia",
          "World/Africa/Comoros",
          "World/Africa/Congo, Dem. Rep.",
          "World/Africa/Congo, Rep.",
          "World/Americas/Costa Rica",
          "World/Africa/Cote d'Ivoire",
          "World/Europe/Croatia",
          "World/Americas/Cuba",
          "World/Europe/Czech Republic",
          "World/Europe/Denmark",
          "World/Africa/Djibouti",
          "World/Americas/Dominican Republic",
          "World/Americas/Ecuador",
          "World/Africa/Egypt",
          "World/Americas/El Salvador",
          "World/Africa/Equatorial Guinea",
          "World/Africa/Eritrea",
          "World/Africa/Ethiopia",
          "World/Europe/Finland",
          "World/Europe/France",
          "World/Africa/Gabon",
          "World/Africa/Gambia",
          "World/Europe/Germany",
          "World/Africa/Ghana",
          "World/Europe/Greece",
          "World/Americas/Guatemala",
          "World/Africa/Guinea",
          "World/Africa/Guinea-Bissau",
          "World/Americas/Haiti",
          "World/Americas/Honduras",
          "World/Asia/Hong Kong, China",
          "World/Europe/Hungary",
          "World/Europe/Iceland",
          "World/Asia/India",
          "World/Asia/Indonesia",
          "World/Asia/Iran",
          "World/Asia/Iraq",
          "World/Europe/Ireland",
          "World/Asia/Israel",
          "World/Europe/Italy",
          "World/Americas/Jamaica",
          "World/Asia/Japan",
          "World/Asia/Jordan",
          "World/Africa/Kenya",
          "World/Asia/Korea, Dem. Rep.",
          "World/Asia/Korea, Rep.",
          "World/Asia/Kuwait",
          "World/Asia/Lebanon",
          "World/Africa/Lesotho",
          "World/Africa/Liberia",
          "World/Africa/Libya",
          "World/Africa/Madagascar",
          "World/Africa/Malawi",
          "World/Asia/Malaysia",
          "World/Africa/Mali",
          "World/Africa/Mauritania",
          "World/Africa/Mauritius",
          "World/Americas/Mexico",
          "World/Asia/Mongolia",
          "World/Europe/Montenegro",
          "World/Africa/Morocco",
          "World/Africa/Mozambique",
          "World/Asia/Myanmar",
          "World/Africa/Namibia",
          "World/Asia/Nepal",
          "World/Europe/Netherlands",
          "World/Oceania/New Zealand",
          "World/Americas/Nicaragua",
          "World/Africa/Niger",
          "World/Africa/Nigeria",
          "World/Europe/Norway",
          "World/Asia/Oman",
          "World/Asia/Pakistan",
          "World/Americas/Panama",
          "World/Americas/Paraguay",
          "World/Americas/Peru",
          "World/Asia/Philippines",
          "World/Europe/Poland",
          "World/Europe/Portugal",
          "World/Americas/Puerto Rico",
          "World/Africa/Reunion",
          "World/Europe/Romania",
          "World/Africa/Rwanda",
          "World/Africa/Sao Tome and Principe",
          "World/Asia/Saudi Arabia",
          "World/Africa/Senegal",
          "World/Europe/Serbia",
          "World/Africa/Sierra Leone",
          "World/Asia/Singapore",
          "World/Europe/Slovak Republic",
          "World/Europe/Slovenia",
          "World/Africa/Somalia",
          "World/Africa/South Africa",
          "World/Europe/Spain",
          "World/Asia/Sri Lanka",
          "World/Africa/Sudan",
          "World/Africa/Swaziland",
          "World/Europe/Sweden",
          "World/Europe/Switzerland",
          "World/Asia/Syria",
          "World/Asia/Taiwan",
          "World/Africa/Tanzania",
          "World/Asia/Thailand",
          "World/Africa/Togo",
          "World/Americas/Trinidad and Tobago",
          "World/Africa/Tunisia",
          "World/Europe/Turkey",
          "World/Africa/Uganda",
          "World/Europe/United Kingdom",
          "World/Americas/United States",
          "World/Americas/Uruguay",
          "World/Americas/Venezuela",
          "World/Asia/Vietnam",
          "World/Asia/West Bank and Gaza",
          "World/Asia/Yemen, Rep.",
          "World/Africa/Zambia",
          "World/Africa/Zimbabwe",
          "World/Africa",
          "World/Americas",
          "World/Asia",
          "World/Europe",
          "World/Oceania",
          "World"
         ],
         "labels": [
          "Afghanistan",
          "Albania",
          "Algeria",
          "Angola",
          "Argentina",
          "Australia",
          "Austria",
          "Bahrain",
          "Bangladesh",
          "Belgium",
          "Benin",
          "Bolivia",
          "Bosnia and Herzegovina",
          "Botswana",
          "Brazil",
          "Bulgaria",
          "Burkina Faso",
          "Burundi",
          "Cambodia",
          "Cameroon",
          "Canada",
          "Central African Republic",
          "Chad",
          "Chile",
          "China",
          "Colombia",
          "Comoros",
          "Congo, Dem. Rep.",
          "Congo, Rep.",
          "Costa Rica",
          "Cote d'Ivoire",
          "Croatia",
          "Cuba",
          "Czech Republic",
          "Denmark",
          "Djibouti",
          "Dominican Republic",
          "Ecuador",
          "Egypt",
          "El Salvador",
          "Equatorial Guinea",
          "Eritrea",
          "Ethiopia",
          "Finland",
          "France",
          "Gabon",
          "Gambia",
          "Germany",
          "Ghana",
          "Greece",
          "Guatemala",
          "Guinea",
          "Guinea-Bissau",
          "Haiti",
          "Honduras",
          "Hong Kong, China",
          "Hungary",
          "Iceland",
          "India",
          "Indonesia",
          "Iran",
          "Iraq",
          "Ireland",
          "Israel",
          "Italy",
          "Jamaica",
          "Japan",
          "Jordan",
          "Kenya",
          "Korea, Dem. Rep.",
          "Korea, Rep.",
          "Kuwait",
          "Lebanon",
          "Lesotho",
          "Liberia",
          "Libya",
          "Madagascar",
          "Malawi",
          "Malaysia",
          "Mali",
          "Mauritania",
          "Mauritius",
          "Mexico",
          "Mongolia",
          "Montenegro",
          "Morocco",
          "Mozambique",
          "Myanmar",
          "Namibia",
          "Nepal",
          "Netherlands",
          "New Zealand",
          "Nicaragua",
          "Niger",
          "Nigeria",
          "Norway",
          "Oman",
          "Pakistan",
          "Panama",
          "Paraguay",
          "Peru",
          "Philippines",
          "Poland",
          "Portugal",
          "Puerto Rico",
          "Reunion",
          "Romania",
          "Rwanda",
          "Sao Tome and Principe",
          "Saudi Arabia",
          "Senegal",
          "Serbia",
          "Sierra Leone",
          "Singapore",
          "Slovak Republic",
          "Slovenia",
          "Somalia",
          "South Africa",
          "Spain",
          "Sri Lanka",
          "Sudan",
          "Swaziland",
          "Sweden",
          "Switzerland",
          "Syria",
          "Taiwan",
          "Tanzania",
          "Thailand",
          "Togo",
          "Trinidad and Tobago",
          "Tunisia",
          "Turkey",
          "Uganda",
          "United Kingdom",
          "United States",
          "Uruguay",
          "Venezuela",
          "Vietnam",
          "West Bank and Gaza",
          "Yemen, Rep.",
          "Zambia",
          "Zimbabwe",
          "Africa",
          "Americas",
          "Asia",
          "Europe",
          "Oceania",
          "World"
         ],
         "marker": {
          "coloraxis": "coloraxis",
          "colors": [
           43.828,
           76.423,
           72.301,
           42.731,
           75.32,
           81.235,
           79.829,
           75.635,
           64.062,
           79.441,
           56.728,
           65.554,
           74.852,
           50.728,
           72.39,
           73.005,
           52.295,
           49.58,
           59.723,
           50.43,
           80.65300000000002,
           44.74100000000001,
           50.651,
           78.553,
           72.961,
           72.889,
           65.152,
           46.462,
           55.322,
           78.782,
           48.328,
           75.748,
           78.273,
           76.486,
           78.332,
           54.791,
           72.235,
           74.994,
           71.33800000000002,
           71.878,
           51.57899999999999,
           58.03999999999999,
           52.947,
           79.313,
           80.65699999999998,
           56.73500000000001,
           59.448,
           79.406,
           60.02199999999999,
           79.483,
           70.259,
           56.007,
           46.38800000000001,
           60.916,
           70.19800000000001,
           82.208,
           73.33800000000002,
           81.757,
           64.69800000000001,
           70.65,
           70.964,
           59.545,
           78.885,
           80.745,
           80.546,
           72.567,
           82.603,
           72.535,
           54.11,
           67.297,
           78.623,
           77.58800000000002,
           71.993,
           42.592,
           45.678,
           73.952,
           59.443000000000005,
           48.303,
           74.241,
           54.467,
           64.164,
           72.801,
           76.195,
           66.803,
           74.543,
           71.164,
           42.082,
           62.06900000000001,
           52.90600000000001,
           63.785,
           79.762,
           80.204,
           72.899,
           56.867,
           46.859,
           80.196,
           75.64,
           65.483,
           75.53699999999998,
           71.752,
           71.421,
           71.688,
           75.563,
           78.098,
           78.74600000000002,
           76.442,
           72.476,
           46.242,
           65.528,
           72.777,
           63.062,
           74.002,
           42.56800000000001,
           79.972,
           74.663,
           77.926,
           48.159,
           49.339,
           80.941,
           72.396,
           58.55599999999999,
           39.613,
           80.884,
           81.70100000000002,
           74.143,
           78.4,
           52.517,
           70.616,
           58.42,
           69.819,
           73.923,
           71.777,
           51.542,
           79.425,
           78.242,
           76.384,
           73.747,
           74.249,
           73.422,
           62.698,
           42.38399999999999,
           43.487,
           54.56441057558197,
           75.35668222743027,
           69.44386304205017,
           77.89057081069897,
           81.06215400970112,
           68.91909251904043
          ]
         },
         "name": "",
         "parents": [
          "World/Asia",
          "World/Europe",
          "World/Africa",
          "World/Africa",
          "World/Americas",
          "World/Oceania",
          "World/Europe",
          "World/Asia",
          "World/Asia",
          "World/Europe",
          "World/Africa",
          "World/Americas",
          "World/Europe",
          "World/Africa",
          "World/Americas",
          "World/Europe",
          "World/Africa",
          "World/Africa",
          "World/Asia",
          "World/Africa",
          "World/Americas",
          "World/Africa",
          "World/Africa",
          "World/Americas",
          "World/Asia",
          "World/Americas",
          "World/Africa",
          "World/Africa",
          "World/Africa",
          "World/Americas",
          "World/Africa",
          "World/Europe",
          "World/Americas",
          "World/Europe",
          "World/Europe",
          "World/Africa",
          "World/Americas",
          "World/Americas",
          "World/Africa",
          "World/Americas",
          "World/Africa",
          "World/Africa",
          "World/Africa",
          "World/Europe",
          "World/Europe",
          "World/Africa",
          "World/Africa",
          "World/Europe",
          "World/Africa",
          "World/Europe",
          "World/Americas",
          "World/Africa",
          "World/Africa",
          "World/Americas",
          "World/Americas",
          "World/Asia",
          "World/Europe",
          "World/Europe",
          "World/Asia",
          "World/Asia",
          "World/Asia",
          "World/Asia",
          "World/Europe",
          "World/Asia",
          "World/Europe",
          "World/Americas",
          "World/Asia",
          "World/Asia",
          "World/Africa",
          "World/Asia",
          "World/Asia",
          "World/Asia",
          "World/Asia",
          "World/Africa",
          "World/Africa",
          "World/Africa",
          "World/Africa",
          "World/Africa",
          "World/Asia",
          "World/Africa",
          "World/Africa",
          "World/Africa",
          "World/Americas",
          "World/Asia",
          "World/Europe",
          "World/Africa",
          "World/Africa",
          "World/Asia",
          "World/Africa",
          "World/Asia",
          "World/Europe",
          "World/Oceania",
          "World/Americas",
          "World/Africa",
          "World/Africa",
          "World/Europe",
          "World/Asia",
          "World/Asia",
          "World/Americas",
          "World/Americas",
          "World/Americas",
          "World/Asia",
          "World/Europe",
          "World/Europe",
          "World/Americas",
          "World/Africa",
          "World/Europe",
          "World/Africa",
          "World/Africa",
          "World/Asia",
          "World/Africa",
          "World/Europe",
          "World/Africa",
          "World/Asia",
          "World/Europe",
          "World/Europe",
          "World/Africa",
          "World/Africa",
          "World/Europe",
          "World/Asia",
          "World/Africa",
          "World/Africa",
          "World/Europe",
          "World/Europe",
          "World/Asia",
          "World/Asia",
          "World/Africa",
          "World/Asia",
          "World/Africa",
          "World/Americas",
          "World/Africa",
          "World/Europe",
          "World/Africa",
          "World/Europe",
          "World/Americas",
          "World/Americas",
          "World/Americas",
          "World/Asia",
          "World/Asia",
          "World/Asia",
          "World/Africa",
          "World/Africa",
          "World",
          "World",
          "World",
          "World",
          "World",
          ""
         ],
         "type": "treemap",
         "values": [
          31889923,
          3600523,
          33333216,
          12420476,
          40301927,
          20434176,
          8199783,
          708573,
          150448339,
          10392226,
          8078314,
          9119152,
          4552198,
          1639131,
          190010647,
          7322858,
          14326203,
          8390505,
          14131858,
          17696293,
          33390141,
          4369038,
          10238807,
          16284741,
          1318683096,
          44227550,
          710960,
          64606759,
          3800610,
          4133884,
          18013409,
          4493312,
          11416987,
          10228744,
          5468120,
          496374,
          9319622,
          13755680,
          80264543,
          6939688,
          551201,
          4906585,
          76511887,
          5238460,
          61083916,
          1454867,
          1688359,
          82400996,
          22873338,
          10706290,
          12572928,
          9947814,
          1472041,
          8502814,
          7483763,
          6980412,
          9956108,
          301931,
          1110396331,
          223547000,
          69453570,
          27499638,
          4109086,
          6426679,
          58147733,
          2780132,
          127467972,
          6053193,
          35610177,
          23301725,
          49044790,
          2505559,
          3921278,
          2012649,
          3193942,
          6036914,
          19167654,
          13327079,
          24821286,
          12031795,
          3270065,
          1250882,
          108700891,
          2874127,
          684736,
          33757175,
          19951656,
          47761980,
          2055080,
          28901790,
          16570613,
          4115771,
          5675356,
          12894865,
          135031164,
          4627926,
          3204897,
          169270617,
          3242173,
          6667147,
          28674757,
          91077287,
          38518241,
          10642836,
          3942491,
          798094,
          22276056,
          8860588,
          199579,
          27601038,
          12267493,
          10150265,
          6144562,
          4553009,
          5447502,
          2009245,
          9118773,
          43997828,
          40448191,
          20378239,
          42292929,
          1133066,
          9031088,
          7554661,
          19314747,
          23174294,
          38139640,
          65068149,
          5701579,
          1056608,
          10276158,
          71158647,
          29170398,
          60776238,
          301139947,
          3447496,
          26084662,
          85262356,
          4018332,
          22211743,
          11746035,
          12311143,
          929539692,
          898871184,
          3811953827,
          586098529,
          24549947,
          6251013179
         ]
        }
       ],
       "layout": {
        "coloraxis": {
         "colorbar": {
          "title": {
           "text": "lifeExp"
          }
         },
         "colorscale": [
          [
           0,
           "rgb(103,0,31)"
          ],
          [
           0.1,
           "rgb(178,24,43)"
          ],
          [
           0.2,
           "rgb(214,96,77)"
          ],
          [
           0.3,
           "rgb(244,165,130)"
          ],
          [
           0.4,
           "rgb(253,219,199)"
          ],
          [
           0.5,
           "rgb(247,247,247)"
          ],
          [
           0.6,
           "rgb(209,229,240)"
          ],
          [
           0.7,
           "rgb(146,197,222)"
          ],
          [
           0.8,
           "rgb(67,147,195)"
          ],
          [
           0.9,
           "rgb(33,102,172)"
          ],
          [
           1,
           "rgb(5,48,97)"
          ]
         ]
        },
        "legend": {
         "tracegroupgap": 0
        },
        "margin": {
         "t": 60
        },
        "template": {
         "data": {
          "bar": [
           {
            "error_x": {
             "color": "#2a3f5f"
            },
            "error_y": {
             "color": "#2a3f5f"
            },
            "marker": {
             "line": {
              "color": "#E5ECF6",
              "width": 0.5
             },
             "pattern": {
              "fillmode": "overlay",
              "size": 10,
              "solidity": 0.2
             }
            },
            "type": "bar"
           }
          ],
          "barpolar": [
           {
            "marker": {
             "line": {
              "color": "#E5ECF6",
              "width": 0.5
             },
             "pattern": {
              "fillmode": "overlay",
              "size": 10,
              "solidity": 0.2
             }
            },
            "type": "barpolar"
           }
          ],
          "carpet": [
           {
            "aaxis": {
             "endlinecolor": "#2a3f5f",
             "gridcolor": "white",
             "linecolor": "white",
             "minorgridcolor": "white",
             "startlinecolor": "#2a3f5f"
            },
            "baxis": {
             "endlinecolor": "#2a3f5f",
             "gridcolor": "white",
             "linecolor": "white",
             "minorgridcolor": "white",
             "startlinecolor": "#2a3f5f"
            },
            "type": "carpet"
           }
          ],
          "choropleth": [
           {
            "colorbar": {
             "outlinewidth": 0,
             "ticks": ""
            },
            "type": "choropleth"
           }
          ],
          "contour": [
           {
            "colorbar": {
             "outlinewidth": 0,
             "ticks": ""
            },
            "colorscale": [
             [
              0,
              "#0d0887"
             ],
             [
              0.1111111111111111,
              "#46039f"
             ],
             [
              0.2222222222222222,
              "#7201a8"
             ],
             [
              0.3333333333333333,
              "#9c179e"
             ],
             [
              0.4444444444444444,
              "#bd3786"
             ],
             [
              0.5555555555555556,
              "#d8576b"
             ],
             [
              0.6666666666666666,
              "#ed7953"
             ],
             [
              0.7777777777777778,
              "#fb9f3a"
             ],
             [
              0.8888888888888888,
              "#fdca26"
             ],
             [
              1,
              "#f0f921"
             ]
            ],
            "type": "contour"
           }
          ],
          "contourcarpet": [
           {
            "colorbar": {
             "outlinewidth": 0,
             "ticks": ""
            },
            "type": "contourcarpet"
           }
          ],
          "heatmap": [
           {
            "colorbar": {
             "outlinewidth": 0,
             "ticks": ""
            },
            "colorscale": [
             [
              0,
              "#0d0887"
             ],
             [
              0.1111111111111111,
              "#46039f"
             ],
             [
              0.2222222222222222,
              "#7201a8"
             ],
             [
              0.3333333333333333,
              "#9c179e"
             ],
             [
              0.4444444444444444,
              "#bd3786"
             ],
             [
              0.5555555555555556,
              "#d8576b"
             ],
             [
              0.6666666666666666,
              "#ed7953"
             ],
             [
              0.7777777777777778,
              "#fb9f3a"
             ],
             [
              0.8888888888888888,
              "#fdca26"
             ],
             [
              1,
              "#f0f921"
             ]
            ],
            "type": "heatmap"
           }
          ],
          "heatmapgl": [
           {
            "colorbar": {
             "outlinewidth": 0,
             "ticks": ""
            },
            "colorscale": [
             [
              0,
              "#0d0887"
             ],
             [
              0.1111111111111111,
              "#46039f"
             ],
             [
              0.2222222222222222,
              "#7201a8"
             ],
             [
              0.3333333333333333,
              "#9c179e"
             ],
             [
              0.4444444444444444,
              "#bd3786"
             ],
             [
              0.5555555555555556,
              "#d8576b"
             ],
             [
              0.6666666666666666,
              "#ed7953"
             ],
             [
              0.7777777777777778,
              "#fb9f3a"
             ],
             [
              0.8888888888888888,
              "#fdca26"
             ],
             [
              1,
              "#f0f921"
             ]
            ],
            "type": "heatmapgl"
           }
          ],
          "histogram": [
           {
            "marker": {
             "pattern": {
              "fillmode": "overlay",
              "size": 10,
              "solidity": 0.2
             }
            },
            "type": "histogram"
           }
          ],
          "histogram2d": [
           {
            "colorbar": {
             "outlinewidth": 0,
             "ticks": ""
            },
            "colorscale": [
             [
              0,
              "#0d0887"
             ],
             [
              0.1111111111111111,
              "#46039f"
             ],
             [
              0.2222222222222222,
              "#7201a8"
             ],
             [
              0.3333333333333333,
              "#9c179e"
             ],
             [
              0.4444444444444444,
              "#bd3786"
             ],
             [
              0.5555555555555556,
              "#d8576b"
             ],
             [
              0.6666666666666666,
              "#ed7953"
             ],
             [
              0.7777777777777778,
              "#fb9f3a"
             ],
             [
              0.8888888888888888,
              "#fdca26"
             ],
             [
              1,
              "#f0f921"
             ]
            ],
            "type": "histogram2d"
           }
          ],
          "histogram2dcontour": [
           {
            "colorbar": {
             "outlinewidth": 0,
             "ticks": ""
            },
            "colorscale": [
             [
              0,
              "#0d0887"
             ],
             [
              0.1111111111111111,
              "#46039f"
             ],
             [
              0.2222222222222222,
              "#7201a8"
             ],
             [
              0.3333333333333333,
              "#9c179e"
             ],
             [
              0.4444444444444444,
              "#bd3786"
             ],
             [
              0.5555555555555556,
              "#d8576b"
             ],
             [
              0.6666666666666666,
              "#ed7953"
             ],
             [
              0.7777777777777778,
              "#fb9f3a"
             ],
             [
              0.8888888888888888,
              "#fdca26"
             ],
             [
              1,
              "#f0f921"
             ]
            ],
            "type": "histogram2dcontour"
           }
          ],
          "mesh3d": [
           {
            "colorbar": {
             "outlinewidth": 0,
             "ticks": ""
            },
            "type": "mesh3d"
           }
          ],
          "parcoords": [
           {
            "line": {
             "colorbar": {
              "outlinewidth": 0,
              "ticks": ""
             }
            },
            "type": "parcoords"
           }
          ],
          "pie": [
           {
            "automargin": true,
            "type": "pie"
           }
          ],
          "scatter": [
           {
            "fillpattern": {
             "fillmode": "overlay",
             "size": 10,
             "solidity": 0.2
            },
            "type": "scatter"
           }
          ],
          "scatter3d": [
           {
            "line": {
             "colorbar": {
              "outlinewidth": 0,
              "ticks": ""
             }
            },
            "marker": {
             "colorbar": {
              "outlinewidth": 0,
              "ticks": ""
             }
            },
            "type": "scatter3d"
           }
          ],
          "scattercarpet": [
           {
            "marker": {
             "colorbar": {
              "outlinewidth": 0,
              "ticks": ""
             }
            },
            "type": "scattercarpet"
           }
          ],
          "scattergeo": [
           {
            "marker": {
             "colorbar": {
              "outlinewidth": 0,
              "ticks": ""
             }
            },
            "type": "scattergeo"
           }
          ],
          "scattergl": [
           {
            "marker": {
             "colorbar": {
              "outlinewidth": 0,
              "ticks": ""
             }
            },
            "type": "scattergl"
           }
          ],
          "scattermapbox": [
           {
            "marker": {
             "colorbar": {
              "outlinewidth": 0,
              "ticks": ""
             }
            },
            "type": "scattermapbox"
           }
          ],
          "scatterpolar": [
           {
            "marker": {
             "colorbar": {
              "outlinewidth": 0,
              "ticks": ""
             }
            },
            "type": "scatterpolar"
           }
          ],
          "scatterpolargl": [
           {
            "marker": {
             "colorbar": {
              "outlinewidth": 0,
              "ticks": ""
             }
            },
            "type": "scatterpolargl"
           }
          ],
          "scatterternary": [
           {
            "marker": {
             "colorbar": {
              "outlinewidth": 0,
              "ticks": ""
             }
            },
            "type": "scatterternary"
           }
          ],
          "surface": [
           {
            "colorbar": {
             "outlinewidth": 0,
             "ticks": ""
            },
            "colorscale": [
             [
              0,
              "#0d0887"
             ],
             [
              0.1111111111111111,
              "#46039f"
             ],
             [
              0.2222222222222222,
              "#7201a8"
             ],
             [
              0.3333333333333333,
              "#9c179e"
             ],
             [
              0.4444444444444444,
              "#bd3786"
             ],
             [
              0.5555555555555556,
              "#d8576b"
             ],
             [
              0.6666666666666666,
              "#ed7953"
             ],
             [
              0.7777777777777778,
              "#fb9f3a"
             ],
             [
              0.8888888888888888,
              "#fdca26"
             ],
             [
              1,
              "#f0f921"
             ]
            ],
            "type": "surface"
           }
          ],
          "table": [
           {
            "cells": {
             "fill": {
              "color": "#EBF0F8"
             },
             "line": {
              "color": "white"
             }
            },
            "header": {
             "fill": {
              "color": "#C8D4E3"
             },
             "line": {
              "color": "white"
             }
            },
            "type": "table"
           }
          ]
         },
         "layout": {
          "annotationdefaults": {
           "arrowcolor": "#2a3f5f",
           "arrowhead": 0,
           "arrowwidth": 1
          },
          "autotypenumbers": "strict",
          "coloraxis": {
           "colorbar": {
            "outlinewidth": 0,
            "ticks": ""
           }
          },
          "colorscale": {
           "diverging": [
            [
             0,
             "#8e0152"
            ],
            [
             0.1,
             "#c51b7d"
            ],
            [
             0.2,
             "#de77ae"
            ],
            [
             0.3,
             "#f1b6da"
            ],
            [
             0.4,
             "#fde0ef"
            ],
            [
             0.5,
             "#f7f7f7"
            ],
            [
             0.6,
             "#e6f5d0"
            ],
            [
             0.7,
             "#b8e186"
            ],
            [
             0.8,
             "#7fbc41"
            ],
            [
             0.9,
             "#4d9221"
            ],
            [
             1,
             "#276419"
            ]
           ],
           "sequential": [
            [
             0,
             "#0d0887"
            ],
            [
             0.1111111111111111,
             "#46039f"
            ],
            [
             0.2222222222222222,
             "#7201a8"
            ],
            [
             0.3333333333333333,
             "#9c179e"
            ],
            [
             0.4444444444444444,
             "#bd3786"
            ],
            [
             0.5555555555555556,
             "#d8576b"
            ],
            [
             0.6666666666666666,
             "#ed7953"
            ],
            [
             0.7777777777777778,
             "#fb9f3a"
            ],
            [
             0.8888888888888888,
             "#fdca26"
            ],
            [
             1,
             "#f0f921"
            ]
           ],
           "sequentialminus": [
            [
             0,
             "#0d0887"
            ],
            [
             0.1111111111111111,
             "#46039f"
            ],
            [
             0.2222222222222222,
             "#7201a8"
            ],
            [
             0.3333333333333333,
             "#9c179e"
            ],
            [
             0.4444444444444444,
             "#bd3786"
            ],
            [
             0.5555555555555556,
             "#d8576b"
            ],
            [
             0.6666666666666666,
             "#ed7953"
            ],
            [
             0.7777777777777778,
             "#fb9f3a"
            ],
            [
             0.8888888888888888,
             "#fdca26"
            ],
            [
             1,
             "#f0f921"
            ]
           ]
          },
          "colorway": [
           "#636efa",
           "#EF553B",
           "#00cc96",
           "#ab63fa",
           "#FFA15A",
           "#19d3f3",
           "#FF6692",
           "#B6E880",
           "#FF97FF",
           "#FECB52"
          ],
          "font": {
           "color": "#2a3f5f"
          },
          "geo": {
           "bgcolor": "white",
           "lakecolor": "white",
           "landcolor": "#E5ECF6",
           "showlakes": true,
           "showland": true,
           "subunitcolor": "white"
          },
          "hoverlabel": {
           "align": "left"
          },
          "hovermode": "closest",
          "mapbox": {
           "style": "light"
          },
          "paper_bgcolor": "white",
          "plot_bgcolor": "#E5ECF6",
          "polar": {
           "angularaxis": {
            "gridcolor": "white",
            "linecolor": "white",
            "ticks": ""
           },
           "bgcolor": "#E5ECF6",
           "radialaxis": {
            "gridcolor": "white",
            "linecolor": "white",
            "ticks": ""
           }
          },
          "scene": {
           "xaxis": {
            "backgroundcolor": "#E5ECF6",
            "gridcolor": "white",
            "gridwidth": 2,
            "linecolor": "white",
            "showbackground": true,
            "ticks": "",
            "zerolinecolor": "white"
           },
           "yaxis": {
            "backgroundcolor": "#E5ECF6",
            "gridcolor": "white",
            "gridwidth": 2,
            "linecolor": "white",
            "showbackground": true,
            "ticks": "",
            "zerolinecolor": "white"
           },
           "zaxis": {
            "backgroundcolor": "#E5ECF6",
            "gridcolor": "white",
            "gridwidth": 2,
            "linecolor": "white",
            "showbackground": true,
            "ticks": "",
            "zerolinecolor": "white"
           }
          },
          "shapedefaults": {
           "line": {
            "color": "#2a3f5f"
           }
          },
          "ternary": {
           "aaxis": {
            "gridcolor": "white",
            "linecolor": "white",
            "ticks": ""
           },
           "baxis": {
            "gridcolor": "white",
            "linecolor": "white",
            "ticks": ""
           },
           "bgcolor": "#E5ECF6",
           "caxis": {
            "gridcolor": "white",
            "linecolor": "white",
            "ticks": ""
           }
          },
          "title": {
           "x": 0.05
          },
          "xaxis": {
           "automargin": true,
           "gridcolor": "white",
           "linecolor": "white",
           "ticks": "",
           "title": {
            "standoff": 15
           },
           "zerolinecolor": "white",
           "zerolinewidth": 2
          },
          "yaxis": {
           "automargin": true,
           "gridcolor": "white",
           "linecolor": "white",
           "ticks": "",
           "title": {
            "standoff": 15
           },
           "zerolinecolor": "white",
           "zerolinewidth": 2
          }
         }
        }
       }
      },
      "text/html": [
       "<div>                        <script type=\"text/javascript\">window.PlotlyConfig = {MathJaxConfig: 'local'};</script>\n",
       "        <script charset=\"utf-8\" src=\"https://cdn.plot.ly/plotly-2.27.0.min.js\"></script>                <div id=\"5ee0dd57-785f-46e0-b445-cdb90f2755d3\" class=\"plotly-graph-div\" style=\"height:100%; width:100%;\"></div>            <script type=\"text/javascript\">                                    window.PLOTLYENV=window.PLOTLYENV || {};                                    if (document.getElementById(\"5ee0dd57-785f-46e0-b445-cdb90f2755d3\")) {                    Plotly.newPlot(                        \"5ee0dd57-785f-46e0-b445-cdb90f2755d3\",                        [{\"branchvalues\":\"total\",\"customdata\":[[43.828],[76.423],[72.301],[42.731],[75.32],[81.235],[79.829],[75.635],[64.062],[79.441],[56.728],[65.554],[74.852],[50.728],[72.39],[73.005],[52.295],[49.58],[59.723],[50.43],[80.65300000000002],[44.74100000000001],[50.651],[78.553],[72.961],[72.889],[65.152],[46.462],[55.322],[78.782],[48.328],[75.748],[78.273],[76.486],[78.332],[54.791],[72.235],[74.994],[71.33800000000002],[71.878],[51.57899999999999],[58.03999999999999],[52.947],[79.313],[80.65699999999998],[56.73500000000001],[59.448],[79.406],[60.02199999999999],[79.483],[70.259],[56.007],[46.38800000000001],[60.916],[70.19800000000001],[82.208],[73.33800000000002],[81.757],[64.69800000000001],[70.65],[70.964],[59.545],[78.885],[80.745],[80.546],[72.567],[82.603],[72.535],[54.11],[67.297],[78.623],[77.58800000000002],[71.993],[42.592],[45.678],[73.952],[59.443000000000005],[48.303],[74.241],[54.467],[64.164],[72.801],[76.195],[66.803],[74.543],[71.164],[42.082],[62.06900000000001],[52.90600000000001],[63.785],[79.762],[80.204],[72.899],[56.867],[46.859],[80.196],[75.64],[65.483],[75.53699999999998],[71.752],[71.421],[71.688],[75.563],[78.098],[78.74600000000002],[76.442],[72.476],[46.242],[65.528],[72.777],[63.062],[74.002],[42.56800000000001],[79.972],[74.663],[77.926],[48.159],[49.339],[80.941],[72.396],[58.55599999999999],[39.613],[80.884],[81.70100000000002],[74.143],[78.4],[52.517],[70.616],[58.42],[69.819],[73.923],[71.777],[51.542],[79.425],[78.242],[76.384],[73.747],[74.249],[73.422],[62.698],[42.38399999999999],[43.487],[54.56441057558197],[75.35668222743027],[69.44386304205017],[77.89057081069897],[81.06215400970112],[68.91909251904043]],\"domain\":{\"x\":[0.0,1.0],\"y\":[0.0,1.0]},\"hovertemplate\":\"labels=%{label}\\u003cbr\\u003epop=%{value}\\u003cbr\\u003eparent=%{parent}\\u003cbr\\u003eid=%{id}\\u003cbr\\u003elifeExp=%{color}\\u003cextra\\u003e\\u003c\\u002fextra\\u003e\",\"ids\":[\"World\\u002fAsia\\u002fAfghanistan\",\"World\\u002fEurope\\u002fAlbania\",\"World\\u002fAfrica\\u002fAlgeria\",\"World\\u002fAfrica\\u002fAngola\",\"World\\u002fAmericas\\u002fArgentina\",\"World\\u002fOceania\\u002fAustralia\",\"World\\u002fEurope\\u002fAustria\",\"World\\u002fAsia\\u002fBahrain\",\"World\\u002fAsia\\u002fBangladesh\",\"World\\u002fEurope\\u002fBelgium\",\"World\\u002fAfrica\\u002fBenin\",\"World\\u002fAmericas\\u002fBolivia\",\"World\\u002fEurope\\u002fBosnia and Herzegovina\",\"World\\u002fAfrica\\u002fBotswana\",\"World\\u002fAmericas\\u002fBrazil\",\"World\\u002fEurope\\u002fBulgaria\",\"World\\u002fAfrica\\u002fBurkina Faso\",\"World\\u002fAfrica\\u002fBurundi\",\"World\\u002fAsia\\u002fCambodia\",\"World\\u002fAfrica\\u002fCameroon\",\"World\\u002fAmericas\\u002fCanada\",\"World\\u002fAfrica\\u002fCentral African Republic\",\"World\\u002fAfrica\\u002fChad\",\"World\\u002fAmericas\\u002fChile\",\"World\\u002fAsia\\u002fChina\",\"World\\u002fAmericas\\u002fColombia\",\"World\\u002fAfrica\\u002fComoros\",\"World\\u002fAfrica\\u002fCongo, Dem. Rep.\",\"World\\u002fAfrica\\u002fCongo, Rep.\",\"World\\u002fAmericas\\u002fCosta Rica\",\"World\\u002fAfrica\\u002fCote d'Ivoire\",\"World\\u002fEurope\\u002fCroatia\",\"World\\u002fAmericas\\u002fCuba\",\"World\\u002fEurope\\u002fCzech Republic\",\"World\\u002fEurope\\u002fDenmark\",\"World\\u002fAfrica\\u002fDjibouti\",\"World\\u002fAmericas\\u002fDominican Republic\",\"World\\u002fAmericas\\u002fEcuador\",\"World\\u002fAfrica\\u002fEgypt\",\"World\\u002fAmericas\\u002fEl Salvador\",\"World\\u002fAfrica\\u002fEquatorial Guinea\",\"World\\u002fAfrica\\u002fEritrea\",\"World\\u002fAfrica\\u002fEthiopia\",\"World\\u002fEurope\\u002fFinland\",\"World\\u002fEurope\\u002fFrance\",\"World\\u002fAfrica\\u002fGabon\",\"World\\u002fAfrica\\u002fGambia\",\"World\\u002fEurope\\u002fGermany\",\"World\\u002fAfrica\\u002fGhana\",\"World\\u002fEurope\\u002fGreece\",\"World\\u002fAmericas\\u002fGuatemala\",\"World\\u002fAfrica\\u002fGuinea\",\"World\\u002fAfrica\\u002fGuinea-Bissau\",\"World\\u002fAmericas\\u002fHaiti\",\"World\\u002fAmericas\\u002fHonduras\",\"World\\u002fAsia\\u002fHong Kong, China\",\"World\\u002fEurope\\u002fHungary\",\"World\\u002fEurope\\u002fIceland\",\"World\\u002fAsia\\u002fIndia\",\"World\\u002fAsia\\u002fIndonesia\",\"World\\u002fAsia\\u002fIran\",\"World\\u002fAsia\\u002fIraq\",\"World\\u002fEurope\\u002fIreland\",\"World\\u002fAsia\\u002fIsrael\",\"World\\u002fEurope\\u002fItaly\",\"World\\u002fAmericas\\u002fJamaica\",\"World\\u002fAsia\\u002fJapan\",\"World\\u002fAsia\\u002fJordan\",\"World\\u002fAfrica\\u002fKenya\",\"World\\u002fAsia\\u002fKorea, Dem. Rep.\",\"World\\u002fAsia\\u002fKorea, Rep.\",\"World\\u002fAsia\\u002fKuwait\",\"World\\u002fAsia\\u002fLebanon\",\"World\\u002fAfrica\\u002fLesotho\",\"World\\u002fAfrica\\u002fLiberia\",\"World\\u002fAfrica\\u002fLibya\",\"World\\u002fAfrica\\u002fMadagascar\",\"World\\u002fAfrica\\u002fMalawi\",\"World\\u002fAsia\\u002fMalaysia\",\"World\\u002fAfrica\\u002fMali\",\"World\\u002fAfrica\\u002fMauritania\",\"World\\u002fAfrica\\u002fMauritius\",\"World\\u002fAmericas\\u002fMexico\",\"World\\u002fAsia\\u002fMongolia\",\"World\\u002fEurope\\u002fMontenegro\",\"World\\u002fAfrica\\u002fMorocco\",\"World\\u002fAfrica\\u002fMozambique\",\"World\\u002fAsia\\u002fMyanmar\",\"World\\u002fAfrica\\u002fNamibia\",\"World\\u002fAsia\\u002fNepal\",\"World\\u002fEurope\\u002fNetherlands\",\"World\\u002fOceania\\u002fNew Zealand\",\"World\\u002fAmericas\\u002fNicaragua\",\"World\\u002fAfrica\\u002fNiger\",\"World\\u002fAfrica\\u002fNigeria\",\"World\\u002fEurope\\u002fNorway\",\"World\\u002fAsia\\u002fOman\",\"World\\u002fAsia\\u002fPakistan\",\"World\\u002fAmericas\\u002fPanama\",\"World\\u002fAmericas\\u002fParaguay\",\"World\\u002fAmericas\\u002fPeru\",\"World\\u002fAsia\\u002fPhilippines\",\"World\\u002fEurope\\u002fPoland\",\"World\\u002fEurope\\u002fPortugal\",\"World\\u002fAmericas\\u002fPuerto Rico\",\"World\\u002fAfrica\\u002fReunion\",\"World\\u002fEurope\\u002fRomania\",\"World\\u002fAfrica\\u002fRwanda\",\"World\\u002fAfrica\\u002fSao Tome and Principe\",\"World\\u002fAsia\\u002fSaudi Arabia\",\"World\\u002fAfrica\\u002fSenegal\",\"World\\u002fEurope\\u002fSerbia\",\"World\\u002fAfrica\\u002fSierra Leone\",\"World\\u002fAsia\\u002fSingapore\",\"World\\u002fEurope\\u002fSlovak Republic\",\"World\\u002fEurope\\u002fSlovenia\",\"World\\u002fAfrica\\u002fSomalia\",\"World\\u002fAfrica\\u002fSouth Africa\",\"World\\u002fEurope\\u002fSpain\",\"World\\u002fAsia\\u002fSri Lanka\",\"World\\u002fAfrica\\u002fSudan\",\"World\\u002fAfrica\\u002fSwaziland\",\"World\\u002fEurope\\u002fSweden\",\"World\\u002fEurope\\u002fSwitzerland\",\"World\\u002fAsia\\u002fSyria\",\"World\\u002fAsia\\u002fTaiwan\",\"World\\u002fAfrica\\u002fTanzania\",\"World\\u002fAsia\\u002fThailand\",\"World\\u002fAfrica\\u002fTogo\",\"World\\u002fAmericas\\u002fTrinidad and Tobago\",\"World\\u002fAfrica\\u002fTunisia\",\"World\\u002fEurope\\u002fTurkey\",\"World\\u002fAfrica\\u002fUganda\",\"World\\u002fEurope\\u002fUnited Kingdom\",\"World\\u002fAmericas\\u002fUnited States\",\"World\\u002fAmericas\\u002fUruguay\",\"World\\u002fAmericas\\u002fVenezuela\",\"World\\u002fAsia\\u002fVietnam\",\"World\\u002fAsia\\u002fWest Bank and Gaza\",\"World\\u002fAsia\\u002fYemen, Rep.\",\"World\\u002fAfrica\\u002fZambia\",\"World\\u002fAfrica\\u002fZimbabwe\",\"World\\u002fAfrica\",\"World\\u002fAmericas\",\"World\\u002fAsia\",\"World\\u002fEurope\",\"World\\u002fOceania\",\"World\"],\"labels\":[\"Afghanistan\",\"Albania\",\"Algeria\",\"Angola\",\"Argentina\",\"Australia\",\"Austria\",\"Bahrain\",\"Bangladesh\",\"Belgium\",\"Benin\",\"Bolivia\",\"Bosnia and Herzegovina\",\"Botswana\",\"Brazil\",\"Bulgaria\",\"Burkina Faso\",\"Burundi\",\"Cambodia\",\"Cameroon\",\"Canada\",\"Central African Republic\",\"Chad\",\"Chile\",\"China\",\"Colombia\",\"Comoros\",\"Congo, Dem. Rep.\",\"Congo, Rep.\",\"Costa Rica\",\"Cote d'Ivoire\",\"Croatia\",\"Cuba\",\"Czech Republic\",\"Denmark\",\"Djibouti\",\"Dominican Republic\",\"Ecuador\",\"Egypt\",\"El Salvador\",\"Equatorial Guinea\",\"Eritrea\",\"Ethiopia\",\"Finland\",\"France\",\"Gabon\",\"Gambia\",\"Germany\",\"Ghana\",\"Greece\",\"Guatemala\",\"Guinea\",\"Guinea-Bissau\",\"Haiti\",\"Honduras\",\"Hong Kong, China\",\"Hungary\",\"Iceland\",\"India\",\"Indonesia\",\"Iran\",\"Iraq\",\"Ireland\",\"Israel\",\"Italy\",\"Jamaica\",\"Japan\",\"Jordan\",\"Kenya\",\"Korea, Dem. Rep.\",\"Korea, Rep.\",\"Kuwait\",\"Lebanon\",\"Lesotho\",\"Liberia\",\"Libya\",\"Madagascar\",\"Malawi\",\"Malaysia\",\"Mali\",\"Mauritania\",\"Mauritius\",\"Mexico\",\"Mongolia\",\"Montenegro\",\"Morocco\",\"Mozambique\",\"Myanmar\",\"Namibia\",\"Nepal\",\"Netherlands\",\"New Zealand\",\"Nicaragua\",\"Niger\",\"Nigeria\",\"Norway\",\"Oman\",\"Pakistan\",\"Panama\",\"Paraguay\",\"Peru\",\"Philippines\",\"Poland\",\"Portugal\",\"Puerto Rico\",\"Reunion\",\"Romania\",\"Rwanda\",\"Sao Tome and Principe\",\"Saudi Arabia\",\"Senegal\",\"Serbia\",\"Sierra Leone\",\"Singapore\",\"Slovak Republic\",\"Slovenia\",\"Somalia\",\"South Africa\",\"Spain\",\"Sri Lanka\",\"Sudan\",\"Swaziland\",\"Sweden\",\"Switzerland\",\"Syria\",\"Taiwan\",\"Tanzania\",\"Thailand\",\"Togo\",\"Trinidad and Tobago\",\"Tunisia\",\"Turkey\",\"Uganda\",\"United Kingdom\",\"United States\",\"Uruguay\",\"Venezuela\",\"Vietnam\",\"West Bank and Gaza\",\"Yemen, Rep.\",\"Zambia\",\"Zimbabwe\",\"Africa\",\"Americas\",\"Asia\",\"Europe\",\"Oceania\",\"World\"],\"marker\":{\"coloraxis\":\"coloraxis\",\"colors\":[43.828,76.423,72.301,42.731,75.32,81.235,79.829,75.635,64.062,79.441,56.728,65.554,74.852,50.728,72.39,73.005,52.295,49.58,59.723,50.43,80.65300000000002,44.74100000000001,50.651,78.553,72.961,72.889,65.152,46.462,55.322,78.782,48.328,75.748,78.273,76.486,78.332,54.791,72.235,74.994,71.33800000000002,71.878,51.57899999999999,58.03999999999999,52.947,79.313,80.65699999999998,56.73500000000001,59.448,79.406,60.02199999999999,79.483,70.259,56.007,46.38800000000001,60.916,70.19800000000001,82.208,73.33800000000002,81.757,64.69800000000001,70.65,70.964,59.545,78.885,80.745,80.546,72.567,82.603,72.535,54.11,67.297,78.623,77.58800000000002,71.993,42.592,45.678,73.952,59.443000000000005,48.303,74.241,54.467,64.164,72.801,76.195,66.803,74.543,71.164,42.082,62.06900000000001,52.90600000000001,63.785,79.762,80.204,72.899,56.867,46.859,80.196,75.64,65.483,75.53699999999998,71.752,71.421,71.688,75.563,78.098,78.74600000000002,76.442,72.476,46.242,65.528,72.777,63.062,74.002,42.56800000000001,79.972,74.663,77.926,48.159,49.339,80.941,72.396,58.55599999999999,39.613,80.884,81.70100000000002,74.143,78.4,52.517,70.616,58.42,69.819,73.923,71.777,51.542,79.425,78.242,76.384,73.747,74.249,73.422,62.698,42.38399999999999,43.487,54.56441057558197,75.35668222743027,69.44386304205017,77.89057081069897,81.06215400970112,68.91909251904043]},\"name\":\"\",\"parents\":[\"World\\u002fAsia\",\"World\\u002fEurope\",\"World\\u002fAfrica\",\"World\\u002fAfrica\",\"World\\u002fAmericas\",\"World\\u002fOceania\",\"World\\u002fEurope\",\"World\\u002fAsia\",\"World\\u002fAsia\",\"World\\u002fEurope\",\"World\\u002fAfrica\",\"World\\u002fAmericas\",\"World\\u002fEurope\",\"World\\u002fAfrica\",\"World\\u002fAmericas\",\"World\\u002fEurope\",\"World\\u002fAfrica\",\"World\\u002fAfrica\",\"World\\u002fAsia\",\"World\\u002fAfrica\",\"World\\u002fAmericas\",\"World\\u002fAfrica\",\"World\\u002fAfrica\",\"World\\u002fAmericas\",\"World\\u002fAsia\",\"World\\u002fAmericas\",\"World\\u002fAfrica\",\"World\\u002fAfrica\",\"World\\u002fAfrica\",\"World\\u002fAmericas\",\"World\\u002fAfrica\",\"World\\u002fEurope\",\"World\\u002fAmericas\",\"World\\u002fEurope\",\"World\\u002fEurope\",\"World\\u002fAfrica\",\"World\\u002fAmericas\",\"World\\u002fAmericas\",\"World\\u002fAfrica\",\"World\\u002fAmericas\",\"World\\u002fAfrica\",\"World\\u002fAfrica\",\"World\\u002fAfrica\",\"World\\u002fEurope\",\"World\\u002fEurope\",\"World\\u002fAfrica\",\"World\\u002fAfrica\",\"World\\u002fEurope\",\"World\\u002fAfrica\",\"World\\u002fEurope\",\"World\\u002fAmericas\",\"World\\u002fAfrica\",\"World\\u002fAfrica\",\"World\\u002fAmericas\",\"World\\u002fAmericas\",\"World\\u002fAsia\",\"World\\u002fEurope\",\"World\\u002fEurope\",\"World\\u002fAsia\",\"World\\u002fAsia\",\"World\\u002fAsia\",\"World\\u002fAsia\",\"World\\u002fEurope\",\"World\\u002fAsia\",\"World\\u002fEurope\",\"World\\u002fAmericas\",\"World\\u002fAsia\",\"World\\u002fAsia\",\"World\\u002fAfrica\",\"World\\u002fAsia\",\"World\\u002fAsia\",\"World\\u002fAsia\",\"World\\u002fAsia\",\"World\\u002fAfrica\",\"World\\u002fAfrica\",\"World\\u002fAfrica\",\"World\\u002fAfrica\",\"World\\u002fAfrica\",\"World\\u002fAsia\",\"World\\u002fAfrica\",\"World\\u002fAfrica\",\"World\\u002fAfrica\",\"World\\u002fAmericas\",\"World\\u002fAsia\",\"World\\u002fEurope\",\"World\\u002fAfrica\",\"World\\u002fAfrica\",\"World\\u002fAsia\",\"World\\u002fAfrica\",\"World\\u002fAsia\",\"World\\u002fEurope\",\"World\\u002fOceania\",\"World\\u002fAmericas\",\"World\\u002fAfrica\",\"World\\u002fAfrica\",\"World\\u002fEurope\",\"World\\u002fAsia\",\"World\\u002fAsia\",\"World\\u002fAmericas\",\"World\\u002fAmericas\",\"World\\u002fAmericas\",\"World\\u002fAsia\",\"World\\u002fEurope\",\"World\\u002fEurope\",\"World\\u002fAmericas\",\"World\\u002fAfrica\",\"World\\u002fEurope\",\"World\\u002fAfrica\",\"World\\u002fAfrica\",\"World\\u002fAsia\",\"World\\u002fAfrica\",\"World\\u002fEurope\",\"World\\u002fAfrica\",\"World\\u002fAsia\",\"World\\u002fEurope\",\"World\\u002fEurope\",\"World\\u002fAfrica\",\"World\\u002fAfrica\",\"World\\u002fEurope\",\"World\\u002fAsia\",\"World\\u002fAfrica\",\"World\\u002fAfrica\",\"World\\u002fEurope\",\"World\\u002fEurope\",\"World\\u002fAsia\",\"World\\u002fAsia\",\"World\\u002fAfrica\",\"World\\u002fAsia\",\"World\\u002fAfrica\",\"World\\u002fAmericas\",\"World\\u002fAfrica\",\"World\\u002fEurope\",\"World\\u002fAfrica\",\"World\\u002fEurope\",\"World\\u002fAmericas\",\"World\\u002fAmericas\",\"World\\u002fAmericas\",\"World\\u002fAsia\",\"World\\u002fAsia\",\"World\\u002fAsia\",\"World\\u002fAfrica\",\"World\\u002fAfrica\",\"World\",\"World\",\"World\",\"World\",\"World\",\"\"],\"values\":[31889923,3600523,33333216,12420476,40301927,20434176,8199783,708573,150448339,10392226,8078314,9119152,4552198,1639131,190010647,7322858,14326203,8390505,14131858,17696293,33390141,4369038,10238807,16284741,1318683096,44227550,710960,64606759,3800610,4133884,18013409,4493312,11416987,10228744,5468120,496374,9319622,13755680,80264543,6939688,551201,4906585,76511887,5238460,61083916,1454867,1688359,82400996,22873338,10706290,12572928,9947814,1472041,8502814,7483763,6980412,9956108,301931,1110396331,223547000,69453570,27499638,4109086,6426679,58147733,2780132,127467972,6053193,35610177,23301725,49044790,2505559,3921278,2012649,3193942,6036914,19167654,13327079,24821286,12031795,3270065,1250882,108700891,2874127,684736,33757175,19951656,47761980,2055080,28901790,16570613,4115771,5675356,12894865,135031164,4627926,3204897,169270617,3242173,6667147,28674757,91077287,38518241,10642836,3942491,798094,22276056,8860588,199579,27601038,12267493,10150265,6144562,4553009,5447502,2009245,9118773,43997828,40448191,20378239,42292929,1133066,9031088,7554661,19314747,23174294,38139640,65068149,5701579,1056608,10276158,71158647,29170398,60776238,301139947,3447496,26084662,85262356,4018332,22211743,11746035,12311143,929539692,898871184,3811953827,586098529,24549947,6251013179],\"type\":\"treemap\"}],                        {\"template\":{\"data\":{\"histogram2dcontour\":[{\"type\":\"histogram2dcontour\",\"colorbar\":{\"outlinewidth\":0,\"ticks\":\"\"},\"colorscale\":[[0.0,\"#0d0887\"],[0.1111111111111111,\"#46039f\"],[0.2222222222222222,\"#7201a8\"],[0.3333333333333333,\"#9c179e\"],[0.4444444444444444,\"#bd3786\"],[0.5555555555555556,\"#d8576b\"],[0.6666666666666666,\"#ed7953\"],[0.7777777777777778,\"#fb9f3a\"],[0.8888888888888888,\"#fdca26\"],[1.0,\"#f0f921\"]]}],\"choropleth\":[{\"type\":\"choropleth\",\"colorbar\":{\"outlinewidth\":0,\"ticks\":\"\"}}],\"histogram2d\":[{\"type\":\"histogram2d\",\"colorbar\":{\"outlinewidth\":0,\"ticks\":\"\"},\"colorscale\":[[0.0,\"#0d0887\"],[0.1111111111111111,\"#46039f\"],[0.2222222222222222,\"#7201a8\"],[0.3333333333333333,\"#9c179e\"],[0.4444444444444444,\"#bd3786\"],[0.5555555555555556,\"#d8576b\"],[0.6666666666666666,\"#ed7953\"],[0.7777777777777778,\"#fb9f3a\"],[0.8888888888888888,\"#fdca26\"],[1.0,\"#f0f921\"]]}],\"heatmap\":[{\"type\":\"heatmap\",\"colorbar\":{\"outlinewidth\":0,\"ticks\":\"\"},\"colorscale\":[[0.0,\"#0d0887\"],[0.1111111111111111,\"#46039f\"],[0.2222222222222222,\"#7201a8\"],[0.3333333333333333,\"#9c179e\"],[0.4444444444444444,\"#bd3786\"],[0.5555555555555556,\"#d8576b\"],[0.6666666666666666,\"#ed7953\"],[0.7777777777777778,\"#fb9f3a\"],[0.8888888888888888,\"#fdca26\"],[1.0,\"#f0f921\"]]}],\"heatmapgl\":[{\"type\":\"heatmapgl\",\"colorbar\":{\"outlinewidth\":0,\"ticks\":\"\"},\"colorscale\":[[0.0,\"#0d0887\"],[0.1111111111111111,\"#46039f\"],[0.2222222222222222,\"#7201a8\"],[0.3333333333333333,\"#9c179e\"],[0.4444444444444444,\"#bd3786\"],[0.5555555555555556,\"#d8576b\"],[0.6666666666666666,\"#ed7953\"],[0.7777777777777778,\"#fb9f3a\"],[0.8888888888888888,\"#fdca26\"],[1.0,\"#f0f921\"]]}],\"contourcarpet\":[{\"type\":\"contourcarpet\",\"colorbar\":{\"outlinewidth\":0,\"ticks\":\"\"}}],\"contour\":[{\"type\":\"contour\",\"colorbar\":{\"outlinewidth\":0,\"ticks\":\"\"},\"colorscale\":[[0.0,\"#0d0887\"],[0.1111111111111111,\"#46039f\"],[0.2222222222222222,\"#7201a8\"],[0.3333333333333333,\"#9c179e\"],[0.4444444444444444,\"#bd3786\"],[0.5555555555555556,\"#d8576b\"],[0.6666666666666666,\"#ed7953\"],[0.7777777777777778,\"#fb9f3a\"],[0.8888888888888888,\"#fdca26\"],[1.0,\"#f0f921\"]]}],\"surface\":[{\"type\":\"surface\",\"colorbar\":{\"outlinewidth\":0,\"ticks\":\"\"},\"colorscale\":[[0.0,\"#0d0887\"],[0.1111111111111111,\"#46039f\"],[0.2222222222222222,\"#7201a8\"],[0.3333333333333333,\"#9c179e\"],[0.4444444444444444,\"#bd3786\"],[0.5555555555555556,\"#d8576b\"],[0.6666666666666666,\"#ed7953\"],[0.7777777777777778,\"#fb9f3a\"],[0.8888888888888888,\"#fdca26\"],[1.0,\"#f0f921\"]]}],\"mesh3d\":[{\"type\":\"mesh3d\",\"colorbar\":{\"outlinewidth\":0,\"ticks\":\"\"}}],\"scatter\":[{\"fillpattern\":{\"fillmode\":\"overlay\",\"size\":10,\"solidity\":0.2},\"type\":\"scatter\"}],\"parcoords\":[{\"type\":\"parcoords\",\"line\":{\"colorbar\":{\"outlinewidth\":0,\"ticks\":\"\"}}}],\"scatterpolargl\":[{\"type\":\"scatterpolargl\",\"marker\":{\"colorbar\":{\"outlinewidth\":0,\"ticks\":\"\"}}}],\"bar\":[{\"error_x\":{\"color\":\"#2a3f5f\"},\"error_y\":{\"color\":\"#2a3f5f\"},\"marker\":{\"line\":{\"color\":\"#E5ECF6\",\"width\":0.5},\"pattern\":{\"fillmode\":\"overlay\",\"size\":10,\"solidity\":0.2}},\"type\":\"bar\"}],\"scattergeo\":[{\"type\":\"scattergeo\",\"marker\":{\"colorbar\":{\"outlinewidth\":0,\"ticks\":\"\"}}}],\"scatterpolar\":[{\"type\":\"scatterpolar\",\"marker\":{\"colorbar\":{\"outlinewidth\":0,\"ticks\":\"\"}}}],\"histogram\":[{\"marker\":{\"pattern\":{\"fillmode\":\"overlay\",\"size\":10,\"solidity\":0.2}},\"type\":\"histogram\"}],\"scattergl\":[{\"type\":\"scattergl\",\"marker\":{\"colorbar\":{\"outlinewidth\":0,\"ticks\":\"\"}}}],\"scatter3d\":[{\"type\":\"scatter3d\",\"line\":{\"colorbar\":{\"outlinewidth\":0,\"ticks\":\"\"}},\"marker\":{\"colorbar\":{\"outlinewidth\":0,\"ticks\":\"\"}}}],\"scattermapbox\":[{\"type\":\"scattermapbox\",\"marker\":{\"colorbar\":{\"outlinewidth\":0,\"ticks\":\"\"}}}],\"scatterternary\":[{\"type\":\"scatterternary\",\"marker\":{\"colorbar\":{\"outlinewidth\":0,\"ticks\":\"\"}}}],\"scattercarpet\":[{\"type\":\"scattercarpet\",\"marker\":{\"colorbar\":{\"outlinewidth\":0,\"ticks\":\"\"}}}],\"carpet\":[{\"aaxis\":{\"endlinecolor\":\"#2a3f5f\",\"gridcolor\":\"white\",\"linecolor\":\"white\",\"minorgridcolor\":\"white\",\"startlinecolor\":\"#2a3f5f\"},\"baxis\":{\"endlinecolor\":\"#2a3f5f\",\"gridcolor\":\"white\",\"linecolor\":\"white\",\"minorgridcolor\":\"white\",\"startlinecolor\":\"#2a3f5f\"},\"type\":\"carpet\"}],\"table\":[{\"cells\":{\"fill\":{\"color\":\"#EBF0F8\"},\"line\":{\"color\":\"white\"}},\"header\":{\"fill\":{\"color\":\"#C8D4E3\"},\"line\":{\"color\":\"white\"}},\"type\":\"table\"}],\"barpolar\":[{\"marker\":{\"line\":{\"color\":\"#E5ECF6\",\"width\":0.5},\"pattern\":{\"fillmode\":\"overlay\",\"size\":10,\"solidity\":0.2}},\"type\":\"barpolar\"}],\"pie\":[{\"automargin\":true,\"type\":\"pie\"}]},\"layout\":{\"autotypenumbers\":\"strict\",\"colorway\":[\"#636efa\",\"#EF553B\",\"#00cc96\",\"#ab63fa\",\"#FFA15A\",\"#19d3f3\",\"#FF6692\",\"#B6E880\",\"#FF97FF\",\"#FECB52\"],\"font\":{\"color\":\"#2a3f5f\"},\"hovermode\":\"closest\",\"hoverlabel\":{\"align\":\"left\"},\"paper_bgcolor\":\"white\",\"plot_bgcolor\":\"#E5ECF6\",\"polar\":{\"bgcolor\":\"#E5ECF6\",\"angularaxis\":{\"gridcolor\":\"white\",\"linecolor\":\"white\",\"ticks\":\"\"},\"radialaxis\":{\"gridcolor\":\"white\",\"linecolor\":\"white\",\"ticks\":\"\"}},\"ternary\":{\"bgcolor\":\"#E5ECF6\",\"aaxis\":{\"gridcolor\":\"white\",\"linecolor\":\"white\",\"ticks\":\"\"},\"baxis\":{\"gridcolor\":\"white\",\"linecolor\":\"white\",\"ticks\":\"\"},\"caxis\":{\"gridcolor\":\"white\",\"linecolor\":\"white\",\"ticks\":\"\"}},\"coloraxis\":{\"colorbar\":{\"outlinewidth\":0,\"ticks\":\"\"}},\"colorscale\":{\"sequential\":[[0.0,\"#0d0887\"],[0.1111111111111111,\"#46039f\"],[0.2222222222222222,\"#7201a8\"],[0.3333333333333333,\"#9c179e\"],[0.4444444444444444,\"#bd3786\"],[0.5555555555555556,\"#d8576b\"],[0.6666666666666666,\"#ed7953\"],[0.7777777777777778,\"#fb9f3a\"],[0.8888888888888888,\"#fdca26\"],[1.0,\"#f0f921\"]],\"sequentialminus\":[[0.0,\"#0d0887\"],[0.1111111111111111,\"#46039f\"],[0.2222222222222222,\"#7201a8\"],[0.3333333333333333,\"#9c179e\"],[0.4444444444444444,\"#bd3786\"],[0.5555555555555556,\"#d8576b\"],[0.6666666666666666,\"#ed7953\"],[0.7777777777777778,\"#fb9f3a\"],[0.8888888888888888,\"#fdca26\"],[1.0,\"#f0f921\"]],\"diverging\":[[0,\"#8e0152\"],[0.1,\"#c51b7d\"],[0.2,\"#de77ae\"],[0.3,\"#f1b6da\"],[0.4,\"#fde0ef\"],[0.5,\"#f7f7f7\"],[0.6,\"#e6f5d0\"],[0.7,\"#b8e186\"],[0.8,\"#7fbc41\"],[0.9,\"#4d9221\"],[1,\"#276419\"]]},\"xaxis\":{\"gridcolor\":\"white\",\"linecolor\":\"white\",\"ticks\":\"\",\"title\":{\"standoff\":15},\"zerolinecolor\":\"white\",\"automargin\":true,\"zerolinewidth\":2},\"yaxis\":{\"gridcolor\":\"white\",\"linecolor\":\"white\",\"ticks\":\"\",\"title\":{\"standoff\":15},\"zerolinecolor\":\"white\",\"automargin\":true,\"zerolinewidth\":2},\"scene\":{\"xaxis\":{\"backgroundcolor\":\"#E5ECF6\",\"gridcolor\":\"white\",\"linecolor\":\"white\",\"showbackground\":true,\"ticks\":\"\",\"zerolinecolor\":\"white\",\"gridwidth\":2},\"yaxis\":{\"backgroundcolor\":\"#E5ECF6\",\"gridcolor\":\"white\",\"linecolor\":\"white\",\"showbackground\":true,\"ticks\":\"\",\"zerolinecolor\":\"white\",\"gridwidth\":2},\"zaxis\":{\"backgroundcolor\":\"#E5ECF6\",\"gridcolor\":\"white\",\"linecolor\":\"white\",\"showbackground\":true,\"ticks\":\"\",\"zerolinecolor\":\"white\",\"gridwidth\":2}},\"shapedefaults\":{\"line\":{\"color\":\"#2a3f5f\"}},\"annotationdefaults\":{\"arrowcolor\":\"#2a3f5f\",\"arrowhead\":0,\"arrowwidth\":1},\"geo\":{\"bgcolor\":\"white\",\"landcolor\":\"#E5ECF6\",\"subunitcolor\":\"white\",\"showland\":true,\"showlakes\":true,\"lakecolor\":\"white\"},\"title\":{\"x\":0.05},\"mapbox\":{\"style\":\"light\"}}},\"coloraxis\":{\"colorbar\":{\"title\":{\"text\":\"lifeExp\"}},\"colorscale\":[[0.0,\"rgb(103,0,31)\"],[0.1,\"rgb(178,24,43)\"],[0.2,\"rgb(214,96,77)\"],[0.3,\"rgb(244,165,130)\"],[0.4,\"rgb(253,219,199)\"],[0.5,\"rgb(247,247,247)\"],[0.6,\"rgb(209,229,240)\"],[0.7,\"rgb(146,197,222)\"],[0.8,\"rgb(67,147,195)\"],[0.9,\"rgb(33,102,172)\"],[1.0,\"rgb(5,48,97)\"]]},\"legend\":{\"tracegroupgap\":0},\"margin\":{\"t\":60}},                        {\"responsive\": true}                    )                };                            </script>        </div>"
      ],
      "text/plain": [
       "Figure({\n",
       "    'data': [{'branchvalues': 'total',\n",
       "              'customdata': array([[43.828     ],\n",
       "                                   [76.423     ],\n",
       "                                   [72.301     ],\n",
       "                                   [42.731     ],\n",
       "                                   [75.32      ],\n",
       "                                   [81.235     ],\n",
       "                                   [79.829     ],\n",
       "                                   [75.635     ],\n",
       "                                   [64.062     ],\n",
       "                                   [79.441     ],\n",
       "                                   [56.728     ],\n",
       "                                   [65.554     ],\n",
       "                                   [74.852     ],\n",
       "                                   [50.728     ],\n",
       "                                   [72.39      ],\n",
       "                                   [73.005     ],\n",
       "                                   [52.295     ],\n",
       "                                   [49.58      ],\n",
       "                                   [59.723     ],\n",
       "                                   [50.43      ],\n",
       "                                   [80.653     ],\n",
       "                                   [44.741     ],\n",
       "                                   [50.651     ],\n",
       "                                   [78.553     ],\n",
       "                                   [72.961     ],\n",
       "                                   [72.889     ],\n",
       "                                   [65.152     ],\n",
       "                                   [46.462     ],\n",
       "                                   [55.322     ],\n",
       "                                   [78.782     ],\n",
       "                                   [48.328     ],\n",
       "                                   [75.748     ],\n",
       "                                   [78.273     ],\n",
       "                                   [76.486     ],\n",
       "                                   [78.332     ],\n",
       "                                   [54.791     ],\n",
       "                                   [72.235     ],\n",
       "                                   [74.994     ],\n",
       "                                   [71.338     ],\n",
       "                                   [71.878     ],\n",
       "                                   [51.579     ],\n",
       "                                   [58.04      ],\n",
       "                                   [52.947     ],\n",
       "                                   [79.313     ],\n",
       "                                   [80.657     ],\n",
       "                                   [56.735     ],\n",
       "                                   [59.448     ],\n",
       "                                   [79.406     ],\n",
       "                                   [60.022     ],\n",
       "                                   [79.483     ],\n",
       "                                   [70.259     ],\n",
       "                                   [56.007     ],\n",
       "                                   [46.388     ],\n",
       "                                   [60.916     ],\n",
       "                                   [70.198     ],\n",
       "                                   [82.208     ],\n",
       "                                   [73.338     ],\n",
       "                                   [81.757     ],\n",
       "                                   [64.698     ],\n",
       "                                   [70.65      ],\n",
       "                                   [70.964     ],\n",
       "                                   [59.545     ],\n",
       "                                   [78.885     ],\n",
       "                                   [80.745     ],\n",
       "                                   [80.546     ],\n",
       "                                   [72.567     ],\n",
       "                                   [82.603     ],\n",
       "                                   [72.535     ],\n",
       "                                   [54.11      ],\n",
       "                                   [67.297     ],\n",
       "                                   [78.623     ],\n",
       "                                   [77.588     ],\n",
       "                                   [71.993     ],\n",
       "                                   [42.592     ],\n",
       "                                   [45.678     ],\n",
       "                                   [73.952     ],\n",
       "                                   [59.443     ],\n",
       "                                   [48.303     ],\n",
       "                                   [74.241     ],\n",
       "                                   [54.467     ],\n",
       "                                   [64.164     ],\n",
       "                                   [72.801     ],\n",
       "                                   [76.195     ],\n",
       "                                   [66.803     ],\n",
       "                                   [74.543     ],\n",
       "                                   [71.164     ],\n",
       "                                   [42.082     ],\n",
       "                                   [62.069     ],\n",
       "                                   [52.906     ],\n",
       "                                   [63.785     ],\n",
       "                                   [79.762     ],\n",
       "                                   [80.204     ],\n",
       "                                   [72.899     ],\n",
       "                                   [56.867     ],\n",
       "                                   [46.859     ],\n",
       "                                   [80.196     ],\n",
       "                                   [75.64      ],\n",
       "                                   [65.483     ],\n",
       "                                   [75.537     ],\n",
       "                                   [71.752     ],\n",
       "                                   [71.421     ],\n",
       "                                   [71.688     ],\n",
       "                                   [75.563     ],\n",
       "                                   [78.098     ],\n",
       "                                   [78.746     ],\n",
       "                                   [76.442     ],\n",
       "                                   [72.476     ],\n",
       "                                   [46.242     ],\n",
       "                                   [65.528     ],\n",
       "                                   [72.777     ],\n",
       "                                   [63.062     ],\n",
       "                                   [74.002     ],\n",
       "                                   [42.568     ],\n",
       "                                   [79.972     ],\n",
       "                                   [74.663     ],\n",
       "                                   [77.926     ],\n",
       "                                   [48.159     ],\n",
       "                                   [49.339     ],\n",
       "                                   [80.941     ],\n",
       "                                   [72.396     ],\n",
       "                                   [58.556     ],\n",
       "                                   [39.613     ],\n",
       "                                   [80.884     ],\n",
       "                                   [81.701     ],\n",
       "                                   [74.143     ],\n",
       "                                   [78.4       ],\n",
       "                                   [52.517     ],\n",
       "                                   [70.616     ],\n",
       "                                   [58.42      ],\n",
       "                                   [69.819     ],\n",
       "                                   [73.923     ],\n",
       "                                   [71.777     ],\n",
       "                                   [51.542     ],\n",
       "                                   [79.425     ],\n",
       "                                   [78.242     ],\n",
       "                                   [76.384     ],\n",
       "                                   [73.747     ],\n",
       "                                   [74.249     ],\n",
       "                                   [73.422     ],\n",
       "                                   [62.698     ],\n",
       "                                   [42.384     ],\n",
       "                                   [43.487     ],\n",
       "                                   [54.56441058],\n",
       "                                   [75.35668223],\n",
       "                                   [69.44386304],\n",
       "                                   [77.89057081],\n",
       "                                   [81.06215401],\n",
       "                                   [68.91909252]]),\n",
       "              'domain': {'x': [0.0, 1.0], 'y': [0.0, 1.0]},\n",
       "              'hovertemplate': ('labels=%{label}<br>pop=%{value' ... 'ifeExp=%{color}<extra></extra>'),\n",
       "              'ids': array(['World/Asia/Afghanistan', 'World/Europe/Albania',\n",
       "                            'World/Africa/Algeria', 'World/Africa/Angola',\n",
       "                            'World/Americas/Argentina', 'World/Oceania/Australia',\n",
       "                            'World/Europe/Austria', 'World/Asia/Bahrain', 'World/Asia/Bangladesh',\n",
       "                            'World/Europe/Belgium', 'World/Africa/Benin', 'World/Americas/Bolivia',\n",
       "                            'World/Europe/Bosnia and Herzegovina', 'World/Africa/Botswana',\n",
       "                            'World/Americas/Brazil', 'World/Europe/Bulgaria',\n",
       "                            'World/Africa/Burkina Faso', 'World/Africa/Burundi',\n",
       "                            'World/Asia/Cambodia', 'World/Africa/Cameroon', 'World/Americas/Canada',\n",
       "                            'World/Africa/Central African Republic', 'World/Africa/Chad',\n",
       "                            'World/Americas/Chile', 'World/Asia/China', 'World/Americas/Colombia',\n",
       "                            'World/Africa/Comoros', 'World/Africa/Congo, Dem. Rep.',\n",
       "                            'World/Africa/Congo, Rep.', 'World/Americas/Costa Rica',\n",
       "                            \"World/Africa/Cote d'Ivoire\", 'World/Europe/Croatia',\n",
       "                            'World/Americas/Cuba', 'World/Europe/Czech Republic',\n",
       "                            'World/Europe/Denmark', 'World/Africa/Djibouti',\n",
       "                            'World/Americas/Dominican Republic', 'World/Americas/Ecuador',\n",
       "                            'World/Africa/Egypt', 'World/Americas/El Salvador',\n",
       "                            'World/Africa/Equatorial Guinea', 'World/Africa/Eritrea',\n",
       "                            'World/Africa/Ethiopia', 'World/Europe/Finland', 'World/Europe/France',\n",
       "                            'World/Africa/Gabon', 'World/Africa/Gambia', 'World/Europe/Germany',\n",
       "                            'World/Africa/Ghana', 'World/Europe/Greece', 'World/Americas/Guatemala',\n",
       "                            'World/Africa/Guinea', 'World/Africa/Guinea-Bissau',\n",
       "                            'World/Americas/Haiti', 'World/Americas/Honduras',\n",
       "                            'World/Asia/Hong Kong, China', 'World/Europe/Hungary',\n",
       "                            'World/Europe/Iceland', 'World/Asia/India', 'World/Asia/Indonesia',\n",
       "                            'World/Asia/Iran', 'World/Asia/Iraq', 'World/Europe/Ireland',\n",
       "                            'World/Asia/Israel', 'World/Europe/Italy', 'World/Americas/Jamaica',\n",
       "                            'World/Asia/Japan', 'World/Asia/Jordan', 'World/Africa/Kenya',\n",
       "                            'World/Asia/Korea, Dem. Rep.', 'World/Asia/Korea, Rep.',\n",
       "                            'World/Asia/Kuwait', 'World/Asia/Lebanon', 'World/Africa/Lesotho',\n",
       "                            'World/Africa/Liberia', 'World/Africa/Libya', 'World/Africa/Madagascar',\n",
       "                            'World/Africa/Malawi', 'World/Asia/Malaysia', 'World/Africa/Mali',\n",
       "                            'World/Africa/Mauritania', 'World/Africa/Mauritius',\n",
       "                            'World/Americas/Mexico', 'World/Asia/Mongolia',\n",
       "                            'World/Europe/Montenegro', 'World/Africa/Morocco',\n",
       "                            'World/Africa/Mozambique', 'World/Asia/Myanmar', 'World/Africa/Namibia',\n",
       "                            'World/Asia/Nepal', 'World/Europe/Netherlands',\n",
       "                            'World/Oceania/New Zealand', 'World/Americas/Nicaragua',\n",
       "                            'World/Africa/Niger', 'World/Africa/Nigeria', 'World/Europe/Norway',\n",
       "                            'World/Asia/Oman', 'World/Asia/Pakistan', 'World/Americas/Panama',\n",
       "                            'World/Americas/Paraguay', 'World/Americas/Peru',\n",
       "                            'World/Asia/Philippines', 'World/Europe/Poland',\n",
       "                            'World/Europe/Portugal', 'World/Americas/Puerto Rico',\n",
       "                            'World/Africa/Reunion', 'World/Europe/Romania', 'World/Africa/Rwanda',\n",
       "                            'World/Africa/Sao Tome and Principe', 'World/Asia/Saudi Arabia',\n",
       "                            'World/Africa/Senegal', 'World/Europe/Serbia',\n",
       "                            'World/Africa/Sierra Leone', 'World/Asia/Singapore',\n",
       "                            'World/Europe/Slovak Republic', 'World/Europe/Slovenia',\n",
       "                            'World/Africa/Somalia', 'World/Africa/South Africa',\n",
       "                            'World/Europe/Spain', 'World/Asia/Sri Lanka', 'World/Africa/Sudan',\n",
       "                            'World/Africa/Swaziland', 'World/Europe/Sweden',\n",
       "                            'World/Europe/Switzerland', 'World/Asia/Syria', 'World/Asia/Taiwan',\n",
       "                            'World/Africa/Tanzania', 'World/Asia/Thailand', 'World/Africa/Togo',\n",
       "                            'World/Americas/Trinidad and Tobago', 'World/Africa/Tunisia',\n",
       "                            'World/Europe/Turkey', 'World/Africa/Uganda',\n",
       "                            'World/Europe/United Kingdom', 'World/Americas/United States',\n",
       "                            'World/Americas/Uruguay', 'World/Americas/Venezuela',\n",
       "                            'World/Asia/Vietnam', 'World/Asia/West Bank and Gaza',\n",
       "                            'World/Asia/Yemen, Rep.', 'World/Africa/Zambia',\n",
       "                            'World/Africa/Zimbabwe', 'World/Africa', 'World/Americas', 'World/Asia',\n",
       "                            'World/Europe', 'World/Oceania', 'World'], dtype=object),\n",
       "              'labels': array(['Afghanistan', 'Albania', 'Algeria', 'Angola', 'Argentina', 'Australia',\n",
       "                               'Austria', 'Bahrain', 'Bangladesh', 'Belgium', 'Benin', 'Bolivia',\n",
       "                               'Bosnia and Herzegovina', 'Botswana', 'Brazil', 'Bulgaria',\n",
       "                               'Burkina Faso', 'Burundi', 'Cambodia', 'Cameroon', 'Canada',\n",
       "                               'Central African Republic', 'Chad', 'Chile', 'China', 'Colombia',\n",
       "                               'Comoros', 'Congo, Dem. Rep.', 'Congo, Rep.', 'Costa Rica',\n",
       "                               \"Cote d'Ivoire\", 'Croatia', 'Cuba', 'Czech Republic', 'Denmark',\n",
       "                               'Djibouti', 'Dominican Republic', 'Ecuador', 'Egypt', 'El Salvador',\n",
       "                               'Equatorial Guinea', 'Eritrea', 'Ethiopia', 'Finland', 'France',\n",
       "                               'Gabon', 'Gambia', 'Germany', 'Ghana', 'Greece', 'Guatemala', 'Guinea',\n",
       "                               'Guinea-Bissau', 'Haiti', 'Honduras', 'Hong Kong, China', 'Hungary',\n",
       "                               'Iceland', 'India', 'Indonesia', 'Iran', 'Iraq', 'Ireland', 'Israel',\n",
       "                               'Italy', 'Jamaica', 'Japan', 'Jordan', 'Kenya', 'Korea, Dem. Rep.',\n",
       "                               'Korea, Rep.', 'Kuwait', 'Lebanon', 'Lesotho', 'Liberia', 'Libya',\n",
       "                               'Madagascar', 'Malawi', 'Malaysia', 'Mali', 'Mauritania', 'Mauritius',\n",
       "                               'Mexico', 'Mongolia', 'Montenegro', 'Morocco', 'Mozambique', 'Myanmar',\n",
       "                               'Namibia', 'Nepal', 'Netherlands', 'New Zealand', 'Nicaragua', 'Niger',\n",
       "                               'Nigeria', 'Norway', 'Oman', 'Pakistan', 'Panama', 'Paraguay', 'Peru',\n",
       "                               'Philippines', 'Poland', 'Portugal', 'Puerto Rico', 'Reunion',\n",
       "                               'Romania', 'Rwanda', 'Sao Tome and Principe', 'Saudi Arabia', 'Senegal',\n",
       "                               'Serbia', 'Sierra Leone', 'Singapore', 'Slovak Republic', 'Slovenia',\n",
       "                               'Somalia', 'South Africa', 'Spain', 'Sri Lanka', 'Sudan', 'Swaziland',\n",
       "                               'Sweden', 'Switzerland', 'Syria', 'Taiwan', 'Tanzania', 'Thailand',\n",
       "                               'Togo', 'Trinidad and Tobago', 'Tunisia', 'Turkey', 'Uganda',\n",
       "                               'United Kingdom', 'United States', 'Uruguay', 'Venezuela', 'Vietnam',\n",
       "                               'West Bank and Gaza', 'Yemen, Rep.', 'Zambia', 'Zimbabwe', 'Africa',\n",
       "                               'Americas', 'Asia', 'Europe', 'Oceania', 'World'], dtype=object),\n",
       "              'marker': {'coloraxis': 'coloraxis',\n",
       "                         'colors': array([43.828     , 76.423     , 72.301     , 42.731     , 75.32      ,\n",
       "                                          81.235     , 79.829     , 75.635     , 64.062     , 79.441     ,\n",
       "                                          56.728     , 65.554     , 74.852     , 50.728     , 72.39      ,\n",
       "                                          73.005     , 52.295     , 49.58      , 59.723     , 50.43      ,\n",
       "                                          80.653     , 44.741     , 50.651     , 78.553     , 72.961     ,\n",
       "                                          72.889     , 65.152     , 46.462     , 55.322     , 78.782     ,\n",
       "                                          48.328     , 75.748     , 78.273     , 76.486     , 78.332     ,\n",
       "                                          54.791     , 72.235     , 74.994     , 71.338     , 71.878     ,\n",
       "                                          51.579     , 58.04      , 52.947     , 79.313     , 80.657     ,\n",
       "                                          56.735     , 59.448     , 79.406     , 60.022     , 79.483     ,\n",
       "                                          70.259     , 56.007     , 46.388     , 60.916     , 70.198     ,\n",
       "                                          82.208     , 73.338     , 81.757     , 64.698     , 70.65      ,\n",
       "                                          70.964     , 59.545     , 78.885     , 80.745     , 80.546     ,\n",
       "                                          72.567     , 82.603     , 72.535     , 54.11      , 67.297     ,\n",
       "                                          78.623     , 77.588     , 71.993     , 42.592     , 45.678     ,\n",
       "                                          73.952     , 59.443     , 48.303     , 74.241     , 54.467     ,\n",
       "                                          64.164     , 72.801     , 76.195     , 66.803     , 74.543     ,\n",
       "                                          71.164     , 42.082     , 62.069     , 52.906     , 63.785     ,\n",
       "                                          79.762     , 80.204     , 72.899     , 56.867     , 46.859     ,\n",
       "                                          80.196     , 75.64      , 65.483     , 75.537     , 71.752     ,\n",
       "                                          71.421     , 71.688     , 75.563     , 78.098     , 78.746     ,\n",
       "                                          76.442     , 72.476     , 46.242     , 65.528     , 72.777     ,\n",
       "                                          63.062     , 74.002     , 42.568     , 79.972     , 74.663     ,\n",
       "                                          77.926     , 48.159     , 49.339     , 80.941     , 72.396     ,\n",
       "                                          58.556     , 39.613     , 80.884     , 81.701     , 74.143     ,\n",
       "                                          78.4       , 52.517     , 70.616     , 58.42      , 69.819     ,\n",
       "                                          73.923     , 71.777     , 51.542     , 79.425     , 78.242     ,\n",
       "                                          76.384     , 73.747     , 74.249     , 73.422     , 62.698     ,\n",
       "                                          42.384     , 43.487     , 54.56441058, 75.35668223, 69.44386304,\n",
       "                                          77.89057081, 81.06215401, 68.91909252])},\n",
       "              'name': '',\n",
       "              'parents': array(['World/Asia', 'World/Europe', 'World/Africa', 'World/Africa',\n",
       "                                'World/Americas', 'World/Oceania', 'World/Europe', 'World/Asia',\n",
       "                                'World/Asia', 'World/Europe', 'World/Africa', 'World/Americas',\n",
       "                                'World/Europe', 'World/Africa', 'World/Americas', 'World/Europe',\n",
       "                                'World/Africa', 'World/Africa', 'World/Asia', 'World/Africa',\n",
       "                                'World/Americas', 'World/Africa', 'World/Africa', 'World/Americas',\n",
       "                                'World/Asia', 'World/Americas', 'World/Africa', 'World/Africa',\n",
       "                                'World/Africa', 'World/Americas', 'World/Africa', 'World/Europe',\n",
       "                                'World/Americas', 'World/Europe', 'World/Europe', 'World/Africa',\n",
       "                                'World/Americas', 'World/Americas', 'World/Africa', 'World/Americas',\n",
       "                                'World/Africa', 'World/Africa', 'World/Africa', 'World/Europe',\n",
       "                                'World/Europe', 'World/Africa', 'World/Africa', 'World/Europe',\n",
       "                                'World/Africa', 'World/Europe', 'World/Americas', 'World/Africa',\n",
       "                                'World/Africa', 'World/Americas', 'World/Americas', 'World/Asia',\n",
       "                                'World/Europe', 'World/Europe', 'World/Asia', 'World/Asia',\n",
       "                                'World/Asia', 'World/Asia', 'World/Europe', 'World/Asia',\n",
       "                                'World/Europe', 'World/Americas', 'World/Asia', 'World/Asia',\n",
       "                                'World/Africa', 'World/Asia', 'World/Asia', 'World/Asia', 'World/Asia',\n",
       "                                'World/Africa', 'World/Africa', 'World/Africa', 'World/Africa',\n",
       "                                'World/Africa', 'World/Asia', 'World/Africa', 'World/Africa',\n",
       "                                'World/Africa', 'World/Americas', 'World/Asia', 'World/Europe',\n",
       "                                'World/Africa', 'World/Africa', 'World/Asia', 'World/Africa',\n",
       "                                'World/Asia', 'World/Europe', 'World/Oceania', 'World/Americas',\n",
       "                                'World/Africa', 'World/Africa', 'World/Europe', 'World/Asia',\n",
       "                                'World/Asia', 'World/Americas', 'World/Americas', 'World/Americas',\n",
       "                                'World/Asia', 'World/Europe', 'World/Europe', 'World/Americas',\n",
       "                                'World/Africa', 'World/Europe', 'World/Africa', 'World/Africa',\n",
       "                                'World/Asia', 'World/Africa', 'World/Europe', 'World/Africa',\n",
       "                                'World/Asia', 'World/Europe', 'World/Europe', 'World/Africa',\n",
       "                                'World/Africa', 'World/Europe', 'World/Asia', 'World/Africa',\n",
       "                                'World/Africa', 'World/Europe', 'World/Europe', 'World/Asia',\n",
       "                                'World/Asia', 'World/Africa', 'World/Asia', 'World/Africa',\n",
       "                                'World/Americas', 'World/Africa', 'World/Europe', 'World/Africa',\n",
       "                                'World/Europe', 'World/Americas', 'World/Americas', 'World/Americas',\n",
       "                                'World/Asia', 'World/Asia', 'World/Asia', 'World/Africa',\n",
       "                                'World/Africa', 'World', 'World', 'World', 'World', 'World', ''],\n",
       "                               dtype=object),\n",
       "              'type': 'treemap',\n",
       "              'values': array([  31889923,    3600523,   33333216,   12420476,   40301927,   20434176,\n",
       "                                  8199783,     708573,  150448339,   10392226,    8078314,    9119152,\n",
       "                                  4552198,    1639131,  190010647,    7322858,   14326203,    8390505,\n",
       "                                 14131858,   17696293,   33390141,    4369038,   10238807,   16284741,\n",
       "                               1318683096,   44227550,     710960,   64606759,    3800610,    4133884,\n",
       "                                 18013409,    4493312,   11416987,   10228744,    5468120,     496374,\n",
       "                                  9319622,   13755680,   80264543,    6939688,     551201,    4906585,\n",
       "                                 76511887,    5238460,   61083916,    1454867,    1688359,   82400996,\n",
       "                                 22873338,   10706290,   12572928,    9947814,    1472041,    8502814,\n",
       "                                  7483763,    6980412,    9956108,     301931, 1110396331,  223547000,\n",
       "                                 69453570,   27499638,    4109086,    6426679,   58147733,    2780132,\n",
       "                                127467972,    6053193,   35610177,   23301725,   49044790,    2505559,\n",
       "                                  3921278,    2012649,    3193942,    6036914,   19167654,   13327079,\n",
       "                                 24821286,   12031795,    3270065,    1250882,  108700891,    2874127,\n",
       "                                   684736,   33757175,   19951656,   47761980,    2055080,   28901790,\n",
       "                                 16570613,    4115771,    5675356,   12894865,  135031164,    4627926,\n",
       "                                  3204897,  169270617,    3242173,    6667147,   28674757,   91077287,\n",
       "                                 38518241,   10642836,    3942491,     798094,   22276056,    8860588,\n",
       "                                   199579,   27601038,   12267493,   10150265,    6144562,    4553009,\n",
       "                                  5447502,    2009245,    9118773,   43997828,   40448191,   20378239,\n",
       "                                 42292929,    1133066,    9031088,    7554661,   19314747,   23174294,\n",
       "                                 38139640,   65068149,    5701579,    1056608,   10276158,   71158647,\n",
       "                                 29170398,   60776238,  301139947,    3447496,   26084662,   85262356,\n",
       "                                  4018332,   22211743,   11746035,   12311143,  929539692,  898871184,\n",
       "                               3811953827,  586098529,   24549947, 6251013179], dtype=int64)}],\n",
       "    'layout': {'coloraxis': {'colorbar': {'title': {'text': 'lifeExp'}},\n",
       "                             'colorscale': [[0.0, 'rgb(103,0,31)'], [0.1,\n",
       "                                            'rgb(178,24,43)'], [0.2,\n",
       "                                            'rgb(214,96,77)'], [0.3,\n",
       "                                            'rgb(244,165,130)'], [0.4,\n",
       "                                            'rgb(253,219,199)'], [0.5,\n",
       "                                            'rgb(247,247,247)'], [0.6,\n",
       "                                            'rgb(209,229,240)'], [0.7,\n",
       "                                            'rgb(146,197,222)'], [0.8,\n",
       "                                            'rgb(67,147,195)'], [0.9,\n",
       "                                            'rgb(33,102,172)'], [1.0,\n",
       "                                            'rgb(5,48,97)']]},\n",
       "               'legend': {'tracegroupgap': 0},\n",
       "               'margin': {'t': 60},\n",
       "               'template': '...'}\n",
       "})"
      ]
     },
     "execution_count": 47,
     "metadata": {},
     "output_type": "execute_result"
    }
   ],
   "source": [
    "px.treemap(df, path=[px.Constant('World'),'continent','country'], values='pop', color='lifeExp', color_continuous_scale='rdbu')"
   ]
  },
  {
   "cell_type": "code",
   "execution_count": 48,
   "metadata": {},
   "outputs": [
    {
     "ename": "ValueError",
     "evalue": "Mime type rendering requires nbformat>=4.2.0 but it is not installed",
     "output_type": "error",
     "traceback": [
      "\u001b[1;31m---------------------------------------------------------------------------\u001b[0m",
      "\u001b[1;31mValueError\u001b[0m                                Traceback (most recent call last)",
      "File \u001b[1;32m~\\AppData\\Roaming\\Python\\Python311\\site-packages\\IPython\\core\\formatters.py:922\u001b[0m, in \u001b[0;36mIPythonDisplayFormatter.__call__\u001b[1;34m(self, obj)\u001b[0m\n\u001b[0;32m    920\u001b[0m method \u001b[39m=\u001b[39m get_real_method(obj, \u001b[39mself\u001b[39m\u001b[39m.\u001b[39mprint_method)\n\u001b[0;32m    921\u001b[0m \u001b[39mif\u001b[39;00m method \u001b[39mis\u001b[39;00m \u001b[39mnot\u001b[39;00m \u001b[39mNone\u001b[39;00m:\n\u001b[1;32m--> 922\u001b[0m     method()\n\u001b[0;32m    923\u001b[0m     \u001b[39mreturn\u001b[39;00m \u001b[39mTrue\u001b[39;00m\n",
      "File \u001b[1;32mc:\\Users\\curso\\AppData\\Local\\Programs\\Python\\Python311\\Lib\\site-packages\\plotly\\basedatatypes.py:832\u001b[0m, in \u001b[0;36mBaseFigure._ipython_display_\u001b[1;34m(self)\u001b[0m\n\u001b[0;32m    829\u001b[0m \u001b[39mimport\u001b[39;00m \u001b[39mplotly\u001b[39;00m\u001b[39m.\u001b[39;00m\u001b[39mio\u001b[39;00m \u001b[39mas\u001b[39;00m \u001b[39mpio\u001b[39;00m\n\u001b[0;32m    831\u001b[0m \u001b[39mif\u001b[39;00m pio\u001b[39m.\u001b[39mrenderers\u001b[39m.\u001b[39mrender_on_display \u001b[39mand\u001b[39;00m pio\u001b[39m.\u001b[39mrenderers\u001b[39m.\u001b[39mdefault:\n\u001b[1;32m--> 832\u001b[0m     pio\u001b[39m.\u001b[39;49mshow(\u001b[39mself\u001b[39;49m)\n\u001b[0;32m    833\u001b[0m \u001b[39melse\u001b[39;00m:\n\u001b[0;32m    834\u001b[0m     \u001b[39mprint\u001b[39m(\u001b[39mrepr\u001b[39m(\u001b[39mself\u001b[39m))\n",
      "File \u001b[1;32mc:\\Users\\curso\\AppData\\Local\\Programs\\Python\\Python311\\Lib\\site-packages\\plotly\\io\\_renderers.py:394\u001b[0m, in \u001b[0;36mshow\u001b[1;34m(fig, renderer, validate, **kwargs)\u001b[0m\n\u001b[0;32m    389\u001b[0m         \u001b[39mraise\u001b[39;00m \u001b[39mValueError\u001b[39;00m(\n\u001b[0;32m    390\u001b[0m             \u001b[39m\"\u001b[39m\u001b[39mMime type rendering requires ipython but it is not installed\u001b[39m\u001b[39m\"\u001b[39m\n\u001b[0;32m    391\u001b[0m         )\n\u001b[0;32m    393\u001b[0m     \u001b[39mif\u001b[39;00m \u001b[39mnot\u001b[39;00m nbformat \u001b[39mor\u001b[39;00m Version(nbformat\u001b[39m.\u001b[39m__version__) \u001b[39m<\u001b[39m Version(\u001b[39m\"\u001b[39m\u001b[39m4.2.0\u001b[39m\u001b[39m\"\u001b[39m):\n\u001b[1;32m--> 394\u001b[0m         \u001b[39mraise\u001b[39;00m \u001b[39mValueError\u001b[39;00m(\n\u001b[0;32m    395\u001b[0m             \u001b[39m\"\u001b[39m\u001b[39mMime type rendering requires nbformat>=4.2.0 but it is not installed\u001b[39m\u001b[39m\"\u001b[39m\n\u001b[0;32m    396\u001b[0m         )\n\u001b[0;32m    398\u001b[0m     ipython_display\u001b[39m.\u001b[39mdisplay(bundle, raw\u001b[39m=\u001b[39m\u001b[39mTrue\u001b[39;00m)\n\u001b[0;32m    400\u001b[0m \u001b[39m# external renderers\u001b[39;00m\n",
      "\u001b[1;31mValueError\u001b[0m: Mime type rendering requires nbformat>=4.2.0 but it is not installed"
     ]
    },
    {
     "data": {
      "application/vnd.plotly.v1+json": {
       "config": {
        "plotlyServerURL": "https://plot.ly"
       },
       "data": [
        {
         "branchvalues": "total",
         "customdata": [
          [
           31889923
          ],
          [
           3600523
          ],
          [
           33333216
          ],
          [
           12420476
          ],
          [
           40301927
          ],
          [
           20434176
          ],
          [
           8199783
          ],
          [
           708573
          ],
          [
           150448339
          ],
          [
           10392226
          ],
          [
           8078314
          ],
          [
           9119152
          ],
          [
           4552198
          ],
          [
           1639131
          ],
          [
           190010647
          ],
          [
           7322858
          ],
          [
           14326203
          ],
          [
           8390505
          ],
          [
           14131858
          ],
          [
           17696293
          ],
          [
           33390141
          ],
          [
           4369038
          ],
          [
           10238807
          ],
          [
           16284741
          ],
          [
           1318683096
          ],
          [
           44227550
          ],
          [
           710960
          ],
          [
           64606759
          ],
          [
           3800610
          ],
          [
           4133884
          ],
          [
           18013409
          ],
          [
           4493312
          ],
          [
           11416987
          ],
          [
           10228744
          ],
          [
           5468120
          ],
          [
           496374
          ],
          [
           9319622
          ],
          [
           13755680
          ],
          [
           80264543
          ],
          [
           6939688
          ],
          [
           551201
          ],
          [
           4906585
          ],
          [
           76511887
          ],
          [
           5238460
          ],
          [
           61083916
          ],
          [
           1454867
          ],
          [
           1688359
          ],
          [
           82400996
          ],
          [
           22873338
          ],
          [
           10706290
          ],
          [
           12572928
          ],
          [
           9947814
          ],
          [
           1472041
          ],
          [
           8502814
          ],
          [
           7483763
          ],
          [
           6980412
          ],
          [
           9956108
          ],
          [
           301931
          ],
          [
           1110396331
          ],
          [
           223547000
          ],
          [
           69453570
          ],
          [
           27499638
          ],
          [
           4109086
          ],
          [
           6426679
          ],
          [
           58147733
          ],
          [
           2780132
          ],
          [
           127467972
          ],
          [
           6053193
          ],
          [
           35610177
          ],
          [
           23301725
          ],
          [
           49044790
          ],
          [
           2505559
          ],
          [
           3921278
          ],
          [
           2012649
          ],
          [
           3193942
          ],
          [
           6036914
          ],
          [
           19167654
          ],
          [
           13327079
          ],
          [
           24821286
          ],
          [
           12031795
          ],
          [
           3270065
          ],
          [
           1250882
          ],
          [
           108700890.99999999
          ],
          [
           2874127
          ],
          [
           684736
          ],
          [
           33757175
          ],
          [
           19951656
          ],
          [
           47761980
          ],
          [
           2055080
          ],
          [
           28901790
          ],
          [
           16570613
          ],
          [
           4115771
          ],
          [
           5675356
          ],
          [
           12894865
          ],
          [
           135031164
          ],
          [
           4627926
          ],
          [
           3204897
          ],
          [
           169270617
          ],
          [
           3242173
          ],
          [
           6667147
          ],
          [
           28674757
          ],
          [
           91077287
          ],
          [
           38518241
          ],
          [
           10642836
          ],
          [
           3942491
          ],
          [
           798094
          ],
          [
           22276056
          ],
          [
           8860588
          ],
          [
           199579
          ],
          [
           27601038
          ],
          [
           12267493
          ],
          [
           10150265
          ],
          [
           6144562
          ],
          [
           4553009
          ],
          [
           5447502
          ],
          [
           2009245
          ],
          [
           9118773
          ],
          [
           43997828
          ],
          [
           40448191
          ],
          [
           20378239
          ],
          [
           42292929
          ],
          [
           1133066
          ],
          [
           9031088
          ],
          [
           7554661
          ],
          [
           19314747
          ],
          [
           23174294
          ],
          [
           38139640
          ],
          [
           65068149
          ],
          [
           5701579
          ],
          [
           1056608
          ],
          [
           10276158
          ],
          [
           71158647
          ],
          [
           29170398
          ],
          [
           60776238
          ],
          [
           301139947
          ],
          [
           3447496
          ],
          [
           26084662
          ],
          [
           85262356
          ],
          [
           4018332
          ],
          [
           22211743
          ],
          [
           11746035
          ],
          [
           12311143
          ],
          [
           51941599.57997472
          ],
          [
           162462569.95602512
          ],
          [
           819914126.2938106
          ],
          [
           47152668.63854205
          ],
          [
           17698413.75720351
          ]
         ],
         "domain": {
          "x": [
           0,
           1
          ],
          "y": [
           0,
           1
          ]
         },
         "hovertemplate": "labels=%{label}<br>pop_sum=%{value}<br>parent=%{parent}<br>id=%{id}<br>pop=%{color}<extra></extra>",
         "ids": [
          "Asia/Afghanistan",
          "Europe/Albania",
          "Africa/Algeria",
          "Africa/Angola",
          "Americas/Argentina",
          "Oceania/Australia",
          "Europe/Austria",
          "Asia/Bahrain",
          "Asia/Bangladesh",
          "Europe/Belgium",
          "Africa/Benin",
          "Americas/Bolivia",
          "Europe/Bosnia and Herzegovina",
          "Africa/Botswana",
          "Americas/Brazil",
          "Europe/Bulgaria",
          "Africa/Burkina Faso",
          "Africa/Burundi",
          "Asia/Cambodia",
          "Africa/Cameroon",
          "Americas/Canada",
          "Africa/Central African Republic",
          "Africa/Chad",
          "Americas/Chile",
          "Asia/China",
          "Americas/Colombia",
          "Africa/Comoros",
          "Africa/Congo, Dem. Rep.",
          "Africa/Congo, Rep.",
          "Americas/Costa Rica",
          "Africa/Cote d'Ivoire",
          "Europe/Croatia",
          "Americas/Cuba",
          "Europe/Czech Republic",
          "Europe/Denmark",
          "Africa/Djibouti",
          "Americas/Dominican Republic",
          "Americas/Ecuador",
          "Africa/Egypt",
          "Americas/El Salvador",
          "Africa/Equatorial Guinea",
          "Africa/Eritrea",
          "Africa/Ethiopia",
          "Europe/Finland",
          "Europe/France",
          "Africa/Gabon",
          "Africa/Gambia",
          "Europe/Germany",
          "Africa/Ghana",
          "Europe/Greece",
          "Americas/Guatemala",
          "Africa/Guinea",
          "Africa/Guinea-Bissau",
          "Americas/Haiti",
          "Americas/Honduras",
          "Asia/Hong Kong, China",
          "Europe/Hungary",
          "Europe/Iceland",
          "Asia/India",
          "Asia/Indonesia",
          "Asia/Iran",
          "Asia/Iraq",
          "Europe/Ireland",
          "Asia/Israel",
          "Europe/Italy",
          "Americas/Jamaica",
          "Asia/Japan",
          "Asia/Jordan",
          "Africa/Kenya",
          "Asia/Korea, Dem. Rep.",
          "Asia/Korea, Rep.",
          "Asia/Kuwait",
          "Asia/Lebanon",
          "Africa/Lesotho",
          "Africa/Liberia",
          "Africa/Libya",
          "Africa/Madagascar",
          "Africa/Malawi",
          "Asia/Malaysia",
          "Africa/Mali",
          "Africa/Mauritania",
          "Africa/Mauritius",
          "Americas/Mexico",
          "Asia/Mongolia",
          "Europe/Montenegro",
          "Africa/Morocco",
          "Africa/Mozambique",
          "Asia/Myanmar",
          "Africa/Namibia",
          "Asia/Nepal",
          "Europe/Netherlands",
          "Oceania/New Zealand",
          "Americas/Nicaragua",
          "Africa/Niger",
          "Africa/Nigeria",
          "Europe/Norway",
          "Asia/Oman",
          "Asia/Pakistan",
          "Americas/Panama",
          "Americas/Paraguay",
          "Americas/Peru",
          "Asia/Philippines",
          "Europe/Poland",
          "Europe/Portugal",
          "Americas/Puerto Rico",
          "Africa/Reunion",
          "Europe/Romania",
          "Africa/Rwanda",
          "Africa/Sao Tome and Principe",
          "Asia/Saudi Arabia",
          "Africa/Senegal",
          "Europe/Serbia",
          "Africa/Sierra Leone",
          "Asia/Singapore",
          "Europe/Slovak Republic",
          "Europe/Slovenia",
          "Africa/Somalia",
          "Africa/South Africa",
          "Europe/Spain",
          "Asia/Sri Lanka",
          "Africa/Sudan",
          "Africa/Swaziland",
          "Europe/Sweden",
          "Europe/Switzerland",
          "Asia/Syria",
          "Asia/Taiwan",
          "Africa/Tanzania",
          "Asia/Thailand",
          "Africa/Togo",
          "Americas/Trinidad and Tobago",
          "Africa/Tunisia",
          "Europe/Turkey",
          "Africa/Uganda",
          "Europe/United Kingdom",
          "Americas/United States",
          "Americas/Uruguay",
          "Americas/Venezuela",
          "Asia/Vietnam",
          "Asia/West Bank and Gaza",
          "Asia/Yemen, Rep.",
          "Africa/Zambia",
          "Africa/Zimbabwe",
          "Africa",
          "Americas",
          "Asia",
          "Europe",
          "Oceania"
         ],
         "labels": [
          "Afghanistan",
          "Albania",
          "Algeria",
          "Angola",
          "Argentina",
          "Australia",
          "Austria",
          "Bahrain",
          "Bangladesh",
          "Belgium",
          "Benin",
          "Bolivia",
          "Bosnia and Herzegovina",
          "Botswana",
          "Brazil",
          "Bulgaria",
          "Burkina Faso",
          "Burundi",
          "Cambodia",
          "Cameroon",
          "Canada",
          "Central African Republic",
          "Chad",
          "Chile",
          "China",
          "Colombia",
          "Comoros",
          "Congo, Dem. Rep.",
          "Congo, Rep.",
          "Costa Rica",
          "Cote d'Ivoire",
          "Croatia",
          "Cuba",
          "Czech Republic",
          "Denmark",
          "Djibouti",
          "Dominican Republic",
          "Ecuador",
          "Egypt",
          "El Salvador",
          "Equatorial Guinea",
          "Eritrea",
          "Ethiopia",
          "Finland",
          "France",
          "Gabon",
          "Gambia",
          "Germany",
          "Ghana",
          "Greece",
          "Guatemala",
          "Guinea",
          "Guinea-Bissau",
          "Haiti",
          "Honduras",
          "Hong Kong, China",
          "Hungary",
          "Iceland",
          "India",
          "Indonesia",
          "Iran",
          "Iraq",
          "Ireland",
          "Israel",
          "Italy",
          "Jamaica",
          "Japan",
          "Jordan",
          "Kenya",
          "Korea, Dem. Rep.",
          "Korea, Rep.",
          "Kuwait",
          "Lebanon",
          "Lesotho",
          "Liberia",
          "Libya",
          "Madagascar",
          "Malawi",
          "Malaysia",
          "Mali",
          "Mauritania",
          "Mauritius",
          "Mexico",
          "Mongolia",
          "Montenegro",
          "Morocco",
          "Mozambique",
          "Myanmar",
          "Namibia",
          "Nepal",
          "Netherlands",
          "New Zealand",
          "Nicaragua",
          "Niger",
          "Nigeria",
          "Norway",
          "Oman",
          "Pakistan",
          "Panama",
          "Paraguay",
          "Peru",
          "Philippines",
          "Poland",
          "Portugal",
          "Puerto Rico",
          "Reunion",
          "Romania",
          "Rwanda",
          "Sao Tome and Principe",
          "Saudi Arabia",
          "Senegal",
          "Serbia",
          "Sierra Leone",
          "Singapore",
          "Slovak Republic",
          "Slovenia",
          "Somalia",
          "South Africa",
          "Spain",
          "Sri Lanka",
          "Sudan",
          "Swaziland",
          "Sweden",
          "Switzerland",
          "Syria",
          "Taiwan",
          "Tanzania",
          "Thailand",
          "Togo",
          "Trinidad and Tobago",
          "Tunisia",
          "Turkey",
          "Uganda",
          "United Kingdom",
          "United States",
          "Uruguay",
          "Venezuela",
          "Vietnam",
          "West Bank and Gaza",
          "Yemen, Rep.",
          "Zambia",
          "Zimbabwe",
          "Africa",
          "Americas",
          "Asia",
          "Europe",
          "Oceania"
         ],
         "marker": {
          "coloraxis": "coloraxis",
          "colors": [
           31889923,
           3600523,
           33333216,
           12420476,
           40301927,
           20434176,
           8199783,
           708573,
           150448339,
           10392226,
           8078314,
           9119152,
           4552198,
           1639131,
           190010647,
           7322858,
           14326203,
           8390505,
           14131858,
           17696293,
           33390141,
           4369038,
           10238807,
           16284741,
           1318683096,
           44227550,
           710960,
           64606759,
           3800610,
           4133884,
           18013409,
           4493312,
           11416987,
           10228744,
           5468120,
           496374,
           9319622,
           13755680,
           80264543,
           6939688,
           551201,
           4906585,
           76511887,
           5238460,
           61083916,
           1454867,
           1688359,
           82400996,
           22873338,
           10706290,
           12572928,
           9947814,
           1472041,
           8502814,
           7483763,
           6980412,
           9956108,
           301931,
           1110396331,
           223547000,
           69453570,
           27499638,
           4109086,
           6426679,
           58147733,
           2780132,
           127467972,
           6053193,
           35610177,
           23301725,
           49044790,
           2505559,
           3921278,
           2012649,
           3193942,
           6036914,
           19167654,
           13327079,
           24821286,
           12031795,
           3270065,
           1250882,
           108700890.99999999,
           2874127,
           684736,
           33757175,
           19951656,
           47761980,
           2055080,
           28901790,
           16570613,
           4115771,
           5675356,
           12894865,
           135031164,
           4627926,
           3204897,
           169270617,
           3242173,
           6667147,
           28674757,
           91077287,
           38518241,
           10642836,
           3942491,
           798094,
           22276056,
           8860588,
           199579,
           27601038,
           12267493,
           10150265,
           6144562,
           4553009,
           5447502,
           2009245,
           9118773,
           43997828,
           40448191,
           20378239,
           42292929,
           1133066,
           9031088,
           7554661,
           19314747,
           23174294,
           38139640,
           65068149,
           5701579,
           1056608,
           10276158,
           71158647,
           29170398,
           60776238,
           301139947,
           3447496,
           26084662,
           85262356,
           4018332,
           22211743,
           11746035,
           12311143,
           51941599.57997472,
           162462569.95602512,
           819914126.2938106,
           47152668.63854205,
           17698413.75720351
          ]
         },
         "name": "",
         "parents": [
          "Asia",
          "Europe",
          "Africa",
          "Africa",
          "Americas",
          "Oceania",
          "Europe",
          "Asia",
          "Asia",
          "Europe",
          "Africa",
          "Americas",
          "Europe",
          "Africa",
          "Americas",
          "Europe",
          "Africa",
          "Africa",
          "Asia",
          "Africa",
          "Americas",
          "Africa",
          "Africa",
          "Americas",
          "Asia",
          "Americas",
          "Africa",
          "Africa",
          "Africa",
          "Americas",
          "Africa",
          "Europe",
          "Americas",
          "Europe",
          "Europe",
          "Africa",
          "Americas",
          "Americas",
          "Africa",
          "Americas",
          "Africa",
          "Africa",
          "Africa",
          "Europe",
          "Europe",
          "Africa",
          "Africa",
          "Europe",
          "Africa",
          "Europe",
          "Americas",
          "Africa",
          "Africa",
          "Americas",
          "Americas",
          "Asia",
          "Europe",
          "Europe",
          "Asia",
          "Asia",
          "Asia",
          "Asia",
          "Europe",
          "Asia",
          "Europe",
          "Americas",
          "Asia",
          "Asia",
          "Africa",
          "Asia",
          "Asia",
          "Asia",
          "Asia",
          "Africa",
          "Africa",
          "Africa",
          "Africa",
          "Africa",
          "Asia",
          "Africa",
          "Africa",
          "Africa",
          "Americas",
          "Asia",
          "Europe",
          "Africa",
          "Africa",
          "Asia",
          "Africa",
          "Asia",
          "Europe",
          "Oceania",
          "Americas",
          "Africa",
          "Africa",
          "Europe",
          "Asia",
          "Asia",
          "Americas",
          "Americas",
          "Americas",
          "Asia",
          "Europe",
          "Europe",
          "Americas",
          "Africa",
          "Europe",
          "Africa",
          "Africa",
          "Asia",
          "Africa",
          "Europe",
          "Africa",
          "Asia",
          "Europe",
          "Europe",
          "Africa",
          "Africa",
          "Europe",
          "Asia",
          "Africa",
          "Africa",
          "Europe",
          "Europe",
          "Asia",
          "Asia",
          "Africa",
          "Asia",
          "Africa",
          "Americas",
          "Africa",
          "Europe",
          "Africa",
          "Europe",
          "Americas",
          "Americas",
          "Americas",
          "Asia",
          "Asia",
          "Asia",
          "Africa",
          "Africa",
          "",
          "",
          "",
          "",
          ""
         ],
         "type": "treemap",
         "values": [
          31889923,
          3600523,
          33333216,
          12420476,
          40301927,
          20434176,
          8199783,
          708573,
          150448339,
          10392226,
          8078314,
          9119152,
          4552198,
          1639131,
          190010647,
          7322858,
          14326203,
          8390505,
          14131858,
          17696293,
          33390141,
          4369038,
          10238807,
          16284741,
          1318683096,
          44227550,
          710960,
          64606759,
          3800610,
          4133884,
          18013409,
          4493312,
          11416987,
          10228744,
          5468120,
          496374,
          9319622,
          13755680,
          80264543,
          6939688,
          551201,
          4906585,
          76511887,
          5238460,
          61083916,
          1454867,
          1688359,
          82400996,
          22873338,
          10706290,
          12572928,
          9947814,
          1472041,
          8502814,
          7483763,
          6980412,
          9956108,
          301931,
          1110396331,
          223547000,
          69453570,
          27499638,
          4109086,
          6426679,
          58147733,
          2780132,
          127467972,
          6053193,
          35610177,
          23301725,
          49044790,
          2505559,
          3921278,
          2012649,
          3193942,
          6036914,
          19167654,
          13327079,
          24821286,
          12031795,
          3270065,
          1250882,
          108700891,
          2874127,
          684736,
          33757175,
          19951656,
          47761980,
          2055080,
          28901790,
          16570613,
          4115771,
          5675356,
          12894865,
          135031164,
          4627926,
          3204897,
          169270617,
          3242173,
          6667147,
          28674757,
          91077287,
          38518241,
          10642836,
          3942491,
          798094,
          22276056,
          8860588,
          199579,
          27601038,
          12267493,
          10150265,
          6144562,
          4553009,
          5447502,
          2009245,
          9118773,
          43997828,
          40448191,
          20378239,
          42292929,
          1133066,
          9031088,
          7554661,
          19314747,
          23174294,
          38139640,
          65068149,
          5701579,
          1056608,
          10276158,
          71158647,
          29170398,
          60776238,
          301139947,
          3447496,
          26084662,
          85262356,
          4018332,
          22211743,
          11746035,
          12311143,
          929539692,
          898871184,
          3811953827,
          586098529,
          24549947
         ]
        }
       ],
       "layout": {
        "coloraxis": {
         "colorbar": {
          "title": {
           "text": "pop"
          }
         },
         "colorscale": [
          [
           0,
           "rgb(103,0,31)"
          ],
          [
           0.1,
           "rgb(178,24,43)"
          ],
          [
           0.2,
           "rgb(214,96,77)"
          ],
          [
           0.3,
           "rgb(244,165,130)"
          ],
          [
           0.4,
           "rgb(253,219,199)"
          ],
          [
           0.5,
           "rgb(247,247,247)"
          ],
          [
           0.6,
           "rgb(209,229,240)"
          ],
          [
           0.7,
           "rgb(146,197,222)"
          ],
          [
           0.8,
           "rgb(67,147,195)"
          ],
          [
           0.9,
           "rgb(33,102,172)"
          ],
          [
           1,
           "rgb(5,48,97)"
          ]
         ]
        },
        "legend": {
         "tracegroupgap": 0
        },
        "margin": {
         "t": 60
        },
        "template": {
         "data": {
          "bar": [
           {
            "error_x": {
             "color": "#2a3f5f"
            },
            "error_y": {
             "color": "#2a3f5f"
            },
            "marker": {
             "line": {
              "color": "#E5ECF6",
              "width": 0.5
             },
             "pattern": {
              "fillmode": "overlay",
              "size": 10,
              "solidity": 0.2
             }
            },
            "type": "bar"
           }
          ],
          "barpolar": [
           {
            "marker": {
             "line": {
              "color": "#E5ECF6",
              "width": 0.5
             },
             "pattern": {
              "fillmode": "overlay",
              "size": 10,
              "solidity": 0.2
             }
            },
            "type": "barpolar"
           }
          ],
          "carpet": [
           {
            "aaxis": {
             "endlinecolor": "#2a3f5f",
             "gridcolor": "white",
             "linecolor": "white",
             "minorgridcolor": "white",
             "startlinecolor": "#2a3f5f"
            },
            "baxis": {
             "endlinecolor": "#2a3f5f",
             "gridcolor": "white",
             "linecolor": "white",
             "minorgridcolor": "white",
             "startlinecolor": "#2a3f5f"
            },
            "type": "carpet"
           }
          ],
          "choropleth": [
           {
            "colorbar": {
             "outlinewidth": 0,
             "ticks": ""
            },
            "type": "choropleth"
           }
          ],
          "contour": [
           {
            "colorbar": {
             "outlinewidth": 0,
             "ticks": ""
            },
            "colorscale": [
             [
              0,
              "#0d0887"
             ],
             [
              0.1111111111111111,
              "#46039f"
             ],
             [
              0.2222222222222222,
              "#7201a8"
             ],
             [
              0.3333333333333333,
              "#9c179e"
             ],
             [
              0.4444444444444444,
              "#bd3786"
             ],
             [
              0.5555555555555556,
              "#d8576b"
             ],
             [
              0.6666666666666666,
              "#ed7953"
             ],
             [
              0.7777777777777778,
              "#fb9f3a"
             ],
             [
              0.8888888888888888,
              "#fdca26"
             ],
             [
              1,
              "#f0f921"
             ]
            ],
            "type": "contour"
           }
          ],
          "contourcarpet": [
           {
            "colorbar": {
             "outlinewidth": 0,
             "ticks": ""
            },
            "type": "contourcarpet"
           }
          ],
          "heatmap": [
           {
            "colorbar": {
             "outlinewidth": 0,
             "ticks": ""
            },
            "colorscale": [
             [
              0,
              "#0d0887"
             ],
             [
              0.1111111111111111,
              "#46039f"
             ],
             [
              0.2222222222222222,
              "#7201a8"
             ],
             [
              0.3333333333333333,
              "#9c179e"
             ],
             [
              0.4444444444444444,
              "#bd3786"
             ],
             [
              0.5555555555555556,
              "#d8576b"
             ],
             [
              0.6666666666666666,
              "#ed7953"
             ],
             [
              0.7777777777777778,
              "#fb9f3a"
             ],
             [
              0.8888888888888888,
              "#fdca26"
             ],
             [
              1,
              "#f0f921"
             ]
            ],
            "type": "heatmap"
           }
          ],
          "heatmapgl": [
           {
            "colorbar": {
             "outlinewidth": 0,
             "ticks": ""
            },
            "colorscale": [
             [
              0,
              "#0d0887"
             ],
             [
              0.1111111111111111,
              "#46039f"
             ],
             [
              0.2222222222222222,
              "#7201a8"
             ],
             [
              0.3333333333333333,
              "#9c179e"
             ],
             [
              0.4444444444444444,
              "#bd3786"
             ],
             [
              0.5555555555555556,
              "#d8576b"
             ],
             [
              0.6666666666666666,
              "#ed7953"
             ],
             [
              0.7777777777777778,
              "#fb9f3a"
             ],
             [
              0.8888888888888888,
              "#fdca26"
             ],
             [
              1,
              "#f0f921"
             ]
            ],
            "type": "heatmapgl"
           }
          ],
          "histogram": [
           {
            "marker": {
             "pattern": {
              "fillmode": "overlay",
              "size": 10,
              "solidity": 0.2
             }
            },
            "type": "histogram"
           }
          ],
          "histogram2d": [
           {
            "colorbar": {
             "outlinewidth": 0,
             "ticks": ""
            },
            "colorscale": [
             [
              0,
              "#0d0887"
             ],
             [
              0.1111111111111111,
              "#46039f"
             ],
             [
              0.2222222222222222,
              "#7201a8"
             ],
             [
              0.3333333333333333,
              "#9c179e"
             ],
             [
              0.4444444444444444,
              "#bd3786"
             ],
             [
              0.5555555555555556,
              "#d8576b"
             ],
             [
              0.6666666666666666,
              "#ed7953"
             ],
             [
              0.7777777777777778,
              "#fb9f3a"
             ],
             [
              0.8888888888888888,
              "#fdca26"
             ],
             [
              1,
              "#f0f921"
             ]
            ],
            "type": "histogram2d"
           }
          ],
          "histogram2dcontour": [
           {
            "colorbar": {
             "outlinewidth": 0,
             "ticks": ""
            },
            "colorscale": [
             [
              0,
              "#0d0887"
             ],
             [
              0.1111111111111111,
              "#46039f"
             ],
             [
              0.2222222222222222,
              "#7201a8"
             ],
             [
              0.3333333333333333,
              "#9c179e"
             ],
             [
              0.4444444444444444,
              "#bd3786"
             ],
             [
              0.5555555555555556,
              "#d8576b"
             ],
             [
              0.6666666666666666,
              "#ed7953"
             ],
             [
              0.7777777777777778,
              "#fb9f3a"
             ],
             [
              0.8888888888888888,
              "#fdca26"
             ],
             [
              1,
              "#f0f921"
             ]
            ],
            "type": "histogram2dcontour"
           }
          ],
          "mesh3d": [
           {
            "colorbar": {
             "outlinewidth": 0,
             "ticks": ""
            },
            "type": "mesh3d"
           }
          ],
          "parcoords": [
           {
            "line": {
             "colorbar": {
              "outlinewidth": 0,
              "ticks": ""
             }
            },
            "type": "parcoords"
           }
          ],
          "pie": [
           {
            "automargin": true,
            "type": "pie"
           }
          ],
          "scatter": [
           {
            "fillpattern": {
             "fillmode": "overlay",
             "size": 10,
             "solidity": 0.2
            },
            "type": "scatter"
           }
          ],
          "scatter3d": [
           {
            "line": {
             "colorbar": {
              "outlinewidth": 0,
              "ticks": ""
             }
            },
            "marker": {
             "colorbar": {
              "outlinewidth": 0,
              "ticks": ""
             }
            },
            "type": "scatter3d"
           }
          ],
          "scattercarpet": [
           {
            "marker": {
             "colorbar": {
              "outlinewidth": 0,
              "ticks": ""
             }
            },
            "type": "scattercarpet"
           }
          ],
          "scattergeo": [
           {
            "marker": {
             "colorbar": {
              "outlinewidth": 0,
              "ticks": ""
             }
            },
            "type": "scattergeo"
           }
          ],
          "scattergl": [
           {
            "marker": {
             "colorbar": {
              "outlinewidth": 0,
              "ticks": ""
             }
            },
            "type": "scattergl"
           }
          ],
          "scattermapbox": [
           {
            "marker": {
             "colorbar": {
              "outlinewidth": 0,
              "ticks": ""
             }
            },
            "type": "scattermapbox"
           }
          ],
          "scatterpolar": [
           {
            "marker": {
             "colorbar": {
              "outlinewidth": 0,
              "ticks": ""
             }
            },
            "type": "scatterpolar"
           }
          ],
          "scatterpolargl": [
           {
            "marker": {
             "colorbar": {
              "outlinewidth": 0,
              "ticks": ""
             }
            },
            "type": "scatterpolargl"
           }
          ],
          "scatterternary": [
           {
            "marker": {
             "colorbar": {
              "outlinewidth": 0,
              "ticks": ""
             }
            },
            "type": "scatterternary"
           }
          ],
          "surface": [
           {
            "colorbar": {
             "outlinewidth": 0,
             "ticks": ""
            },
            "colorscale": [
             [
              0,
              "#0d0887"
             ],
             [
              0.1111111111111111,
              "#46039f"
             ],
             [
              0.2222222222222222,
              "#7201a8"
             ],
             [
              0.3333333333333333,
              "#9c179e"
             ],
             [
              0.4444444444444444,
              "#bd3786"
             ],
             [
              0.5555555555555556,
              "#d8576b"
             ],
             [
              0.6666666666666666,
              "#ed7953"
             ],
             [
              0.7777777777777778,
              "#fb9f3a"
             ],
             [
              0.8888888888888888,
              "#fdca26"
             ],
             [
              1,
              "#f0f921"
             ]
            ],
            "type": "surface"
           }
          ],
          "table": [
           {
            "cells": {
             "fill": {
              "color": "#EBF0F8"
             },
             "line": {
              "color": "white"
             }
            },
            "header": {
             "fill": {
              "color": "#C8D4E3"
             },
             "line": {
              "color": "white"
             }
            },
            "type": "table"
           }
          ]
         },
         "layout": {
          "annotationdefaults": {
           "arrowcolor": "#2a3f5f",
           "arrowhead": 0,
           "arrowwidth": 1
          },
          "autotypenumbers": "strict",
          "coloraxis": {
           "colorbar": {
            "outlinewidth": 0,
            "ticks": ""
           }
          },
          "colorscale": {
           "diverging": [
            [
             0,
             "#8e0152"
            ],
            [
             0.1,
             "#c51b7d"
            ],
            [
             0.2,
             "#de77ae"
            ],
            [
             0.3,
             "#f1b6da"
            ],
            [
             0.4,
             "#fde0ef"
            ],
            [
             0.5,
             "#f7f7f7"
            ],
            [
             0.6,
             "#e6f5d0"
            ],
            [
             0.7,
             "#b8e186"
            ],
            [
             0.8,
             "#7fbc41"
            ],
            [
             0.9,
             "#4d9221"
            ],
            [
             1,
             "#276419"
            ]
           ],
           "sequential": [
            [
             0,
             "#0d0887"
            ],
            [
             0.1111111111111111,
             "#46039f"
            ],
            [
             0.2222222222222222,
             "#7201a8"
            ],
            [
             0.3333333333333333,
             "#9c179e"
            ],
            [
             0.4444444444444444,
             "#bd3786"
            ],
            [
             0.5555555555555556,
             "#d8576b"
            ],
            [
             0.6666666666666666,
             "#ed7953"
            ],
            [
             0.7777777777777778,
             "#fb9f3a"
            ],
            [
             0.8888888888888888,
             "#fdca26"
            ],
            [
             1,
             "#f0f921"
            ]
           ],
           "sequentialminus": [
            [
             0,
             "#0d0887"
            ],
            [
             0.1111111111111111,
             "#46039f"
            ],
            [
             0.2222222222222222,
             "#7201a8"
            ],
            [
             0.3333333333333333,
             "#9c179e"
            ],
            [
             0.4444444444444444,
             "#bd3786"
            ],
            [
             0.5555555555555556,
             "#d8576b"
            ],
            [
             0.6666666666666666,
             "#ed7953"
            ],
            [
             0.7777777777777778,
             "#fb9f3a"
            ],
            [
             0.8888888888888888,
             "#fdca26"
            ],
            [
             1,
             "#f0f921"
            ]
           ]
          },
          "colorway": [
           "#636efa",
           "#EF553B",
           "#00cc96",
           "#ab63fa",
           "#FFA15A",
           "#19d3f3",
           "#FF6692",
           "#B6E880",
           "#FF97FF",
           "#FECB52"
          ],
          "font": {
           "color": "#2a3f5f"
          },
          "geo": {
           "bgcolor": "white",
           "lakecolor": "white",
           "landcolor": "#E5ECF6",
           "showlakes": true,
           "showland": true,
           "subunitcolor": "white"
          },
          "hoverlabel": {
           "align": "left"
          },
          "hovermode": "closest",
          "mapbox": {
           "style": "light"
          },
          "paper_bgcolor": "white",
          "plot_bgcolor": "#E5ECF6",
          "polar": {
           "angularaxis": {
            "gridcolor": "white",
            "linecolor": "white",
            "ticks": ""
           },
           "bgcolor": "#E5ECF6",
           "radialaxis": {
            "gridcolor": "white",
            "linecolor": "white",
            "ticks": ""
           }
          },
          "scene": {
           "xaxis": {
            "backgroundcolor": "#E5ECF6",
            "gridcolor": "white",
            "gridwidth": 2,
            "linecolor": "white",
            "showbackground": true,
            "ticks": "",
            "zerolinecolor": "white"
           },
           "yaxis": {
            "backgroundcolor": "#E5ECF6",
            "gridcolor": "white",
            "gridwidth": 2,
            "linecolor": "white",
            "showbackground": true,
            "ticks": "",
            "zerolinecolor": "white"
           },
           "zaxis": {
            "backgroundcolor": "#E5ECF6",
            "gridcolor": "white",
            "gridwidth": 2,
            "linecolor": "white",
            "showbackground": true,
            "ticks": "",
            "zerolinecolor": "white"
           }
          },
          "shapedefaults": {
           "line": {
            "color": "#2a3f5f"
           }
          },
          "ternary": {
           "aaxis": {
            "gridcolor": "white",
            "linecolor": "white",
            "ticks": ""
           },
           "baxis": {
            "gridcolor": "white",
            "linecolor": "white",
            "ticks": ""
           },
           "bgcolor": "#E5ECF6",
           "caxis": {
            "gridcolor": "white",
            "linecolor": "white",
            "ticks": ""
           }
          },
          "title": {
           "x": 0.05
          },
          "xaxis": {
           "automargin": true,
           "gridcolor": "white",
           "linecolor": "white",
           "ticks": "",
           "title": {
            "standoff": 15
           },
           "zerolinecolor": "white",
           "zerolinewidth": 2
          },
          "yaxis": {
           "automargin": true,
           "gridcolor": "white",
           "linecolor": "white",
           "ticks": "",
           "title": {
            "standoff": 15
           },
           "zerolinecolor": "white",
           "zerolinewidth": 2
          }
         }
        }
       }
      },
      "text/html": [
       "<div>                        <script type=\"text/javascript\">window.PlotlyConfig = {MathJaxConfig: 'local'};</script>\n",
       "        <script charset=\"utf-8\" src=\"https://cdn.plot.ly/plotly-2.27.0.min.js\"></script>                <div id=\"66ac15b6-53a7-4838-be68-f268fee93567\" class=\"plotly-graph-div\" style=\"height:100%; width:100%;\"></div>            <script type=\"text/javascript\">                                    window.PLOTLYENV=window.PLOTLYENV || {};                                    if (document.getElementById(\"66ac15b6-53a7-4838-be68-f268fee93567\")) {                    Plotly.newPlot(                        \"66ac15b6-53a7-4838-be68-f268fee93567\",                        [{\"branchvalues\":\"total\",\"customdata\":[[31889923.0],[3600523.0],[33333216.0],[12420476.0],[40301927.0],[20434176.0],[8199783.0],[708573.0],[150448339.0],[10392226.0],[8078314.0],[9119152.0],[4552198.0],[1639131.0],[190010647.0],[7322858.0],[14326203.0],[8390505.0],[14131858.0],[17696293.0],[33390141.0],[4369038.0],[10238807.0],[16284741.0],[1318683096.0],[44227550.0],[710960.0],[64606759.0],[3800610.0],[4133884.0],[18013409.0],[4493312.0],[11416987.0],[10228744.0],[5468120.0],[496374.0],[9319622.0],[13755680.0],[80264543.0],[6939688.0],[551201.0],[4906585.0],[76511887.0],[5238460.0],[61083916.0],[1454867.0],[1688359.0],[82400996.0],[22873338.0],[10706290.0],[12572928.0],[9947814.0],[1472041.0],[8502814.0],[7483763.0],[6980412.0],[9956108.0],[301931.0],[1110396331.0],[223547000.0],[69453570.0],[27499638.0],[4109086.0],[6426679.0],[58147733.0],[2780132.0],[127467972.0],[6053193.0],[35610177.0],[23301725.0],[49044790.0],[2505559.0],[3921278.0],[2012649.0],[3193942.0],[6036914.0],[19167654.0],[13327079.0],[24821286.0],[12031795.0],[3270065.0],[1250882.0],[108700890.99999999],[2874127.0],[684736.0],[33757175.0],[19951656.0],[47761980.0],[2055080.0],[28901790.0],[16570613.0],[4115771.0],[5675356.0],[12894865.0],[135031164.0],[4627926.0],[3204897.0],[169270617.0],[3242173.0],[6667147.0],[28674757.0],[91077287.0],[38518241.0],[10642836.0],[3942491.0],[798094.0],[22276056.0],[8860588.0],[199579.0],[27601038.0],[12267493.0],[10150265.0],[6144562.0],[4553009.0],[5447502.0],[2009245.0],[9118773.0],[43997828.0],[40448191.0],[20378239.0],[42292929.0],[1133066.0],[9031088.0],[7554661.0],[19314747.0],[23174294.0],[38139640.0],[65068149.0],[5701579.0],[1056608.0],[10276158.0],[71158647.0],[29170398.0],[60776238.0],[301139947.0],[3447496.0],[26084662.0],[85262356.0],[4018332.0],[22211743.0],[11746035.0],[12311143.0],[51941599.57997472],[162462569.95602512],[819914126.2938106],[47152668.63854205],[17698413.75720351]],\"domain\":{\"x\":[0.0,1.0],\"y\":[0.0,1.0]},\"hovertemplate\":\"labels=%{label}\\u003cbr\\u003epop_sum=%{value}\\u003cbr\\u003eparent=%{parent}\\u003cbr\\u003eid=%{id}\\u003cbr\\u003epop=%{color}\\u003cextra\\u003e\\u003c\\u002fextra\\u003e\",\"ids\":[\"Asia\\u002fAfghanistan\",\"Europe\\u002fAlbania\",\"Africa\\u002fAlgeria\",\"Africa\\u002fAngola\",\"Americas\\u002fArgentina\",\"Oceania\\u002fAustralia\",\"Europe\\u002fAustria\",\"Asia\\u002fBahrain\",\"Asia\\u002fBangladesh\",\"Europe\\u002fBelgium\",\"Africa\\u002fBenin\",\"Americas\\u002fBolivia\",\"Europe\\u002fBosnia and Herzegovina\",\"Africa\\u002fBotswana\",\"Americas\\u002fBrazil\",\"Europe\\u002fBulgaria\",\"Africa\\u002fBurkina Faso\",\"Africa\\u002fBurundi\",\"Asia\\u002fCambodia\",\"Africa\\u002fCameroon\",\"Americas\\u002fCanada\",\"Africa\\u002fCentral African Republic\",\"Africa\\u002fChad\",\"Americas\\u002fChile\",\"Asia\\u002fChina\",\"Americas\\u002fColombia\",\"Africa\\u002fComoros\",\"Africa\\u002fCongo, Dem. Rep.\",\"Africa\\u002fCongo, Rep.\",\"Americas\\u002fCosta Rica\",\"Africa\\u002fCote d'Ivoire\",\"Europe\\u002fCroatia\",\"Americas\\u002fCuba\",\"Europe\\u002fCzech Republic\",\"Europe\\u002fDenmark\",\"Africa\\u002fDjibouti\",\"Americas\\u002fDominican Republic\",\"Americas\\u002fEcuador\",\"Africa\\u002fEgypt\",\"Americas\\u002fEl Salvador\",\"Africa\\u002fEquatorial Guinea\",\"Africa\\u002fEritrea\",\"Africa\\u002fEthiopia\",\"Europe\\u002fFinland\",\"Europe\\u002fFrance\",\"Africa\\u002fGabon\",\"Africa\\u002fGambia\",\"Europe\\u002fGermany\",\"Africa\\u002fGhana\",\"Europe\\u002fGreece\",\"Americas\\u002fGuatemala\",\"Africa\\u002fGuinea\",\"Africa\\u002fGuinea-Bissau\",\"Americas\\u002fHaiti\",\"Americas\\u002fHonduras\",\"Asia\\u002fHong Kong, China\",\"Europe\\u002fHungary\",\"Europe\\u002fIceland\",\"Asia\\u002fIndia\",\"Asia\\u002fIndonesia\",\"Asia\\u002fIran\",\"Asia\\u002fIraq\",\"Europe\\u002fIreland\",\"Asia\\u002fIsrael\",\"Europe\\u002fItaly\",\"Americas\\u002fJamaica\",\"Asia\\u002fJapan\",\"Asia\\u002fJordan\",\"Africa\\u002fKenya\",\"Asia\\u002fKorea, Dem. Rep.\",\"Asia\\u002fKorea, Rep.\",\"Asia\\u002fKuwait\",\"Asia\\u002fLebanon\",\"Africa\\u002fLesotho\",\"Africa\\u002fLiberia\",\"Africa\\u002fLibya\",\"Africa\\u002fMadagascar\",\"Africa\\u002fMalawi\",\"Asia\\u002fMalaysia\",\"Africa\\u002fMali\",\"Africa\\u002fMauritania\",\"Africa\\u002fMauritius\",\"Americas\\u002fMexico\",\"Asia\\u002fMongolia\",\"Europe\\u002fMontenegro\",\"Africa\\u002fMorocco\",\"Africa\\u002fMozambique\",\"Asia\\u002fMyanmar\",\"Africa\\u002fNamibia\",\"Asia\\u002fNepal\",\"Europe\\u002fNetherlands\",\"Oceania\\u002fNew Zealand\",\"Americas\\u002fNicaragua\",\"Africa\\u002fNiger\",\"Africa\\u002fNigeria\",\"Europe\\u002fNorway\",\"Asia\\u002fOman\",\"Asia\\u002fPakistan\",\"Americas\\u002fPanama\",\"Americas\\u002fParaguay\",\"Americas\\u002fPeru\",\"Asia\\u002fPhilippines\",\"Europe\\u002fPoland\",\"Europe\\u002fPortugal\",\"Americas\\u002fPuerto Rico\",\"Africa\\u002fReunion\",\"Europe\\u002fRomania\",\"Africa\\u002fRwanda\",\"Africa\\u002fSao Tome and Principe\",\"Asia\\u002fSaudi Arabia\",\"Africa\\u002fSenegal\",\"Europe\\u002fSerbia\",\"Africa\\u002fSierra Leone\",\"Asia\\u002fSingapore\",\"Europe\\u002fSlovak Republic\",\"Europe\\u002fSlovenia\",\"Africa\\u002fSomalia\",\"Africa\\u002fSouth Africa\",\"Europe\\u002fSpain\",\"Asia\\u002fSri Lanka\",\"Africa\\u002fSudan\",\"Africa\\u002fSwaziland\",\"Europe\\u002fSweden\",\"Europe\\u002fSwitzerland\",\"Asia\\u002fSyria\",\"Asia\\u002fTaiwan\",\"Africa\\u002fTanzania\",\"Asia\\u002fThailand\",\"Africa\\u002fTogo\",\"Americas\\u002fTrinidad and Tobago\",\"Africa\\u002fTunisia\",\"Europe\\u002fTurkey\",\"Africa\\u002fUganda\",\"Europe\\u002fUnited Kingdom\",\"Americas\\u002fUnited States\",\"Americas\\u002fUruguay\",\"Americas\\u002fVenezuela\",\"Asia\\u002fVietnam\",\"Asia\\u002fWest Bank and Gaza\",\"Asia\\u002fYemen, Rep.\",\"Africa\\u002fZambia\",\"Africa\\u002fZimbabwe\",\"Africa\",\"Americas\",\"Asia\",\"Europe\",\"Oceania\"],\"labels\":[\"Afghanistan\",\"Albania\",\"Algeria\",\"Angola\",\"Argentina\",\"Australia\",\"Austria\",\"Bahrain\",\"Bangladesh\",\"Belgium\",\"Benin\",\"Bolivia\",\"Bosnia and Herzegovina\",\"Botswana\",\"Brazil\",\"Bulgaria\",\"Burkina Faso\",\"Burundi\",\"Cambodia\",\"Cameroon\",\"Canada\",\"Central African Republic\",\"Chad\",\"Chile\",\"China\",\"Colombia\",\"Comoros\",\"Congo, Dem. Rep.\",\"Congo, Rep.\",\"Costa Rica\",\"Cote d'Ivoire\",\"Croatia\",\"Cuba\",\"Czech Republic\",\"Denmark\",\"Djibouti\",\"Dominican Republic\",\"Ecuador\",\"Egypt\",\"El Salvador\",\"Equatorial Guinea\",\"Eritrea\",\"Ethiopia\",\"Finland\",\"France\",\"Gabon\",\"Gambia\",\"Germany\",\"Ghana\",\"Greece\",\"Guatemala\",\"Guinea\",\"Guinea-Bissau\",\"Haiti\",\"Honduras\",\"Hong Kong, China\",\"Hungary\",\"Iceland\",\"India\",\"Indonesia\",\"Iran\",\"Iraq\",\"Ireland\",\"Israel\",\"Italy\",\"Jamaica\",\"Japan\",\"Jordan\",\"Kenya\",\"Korea, Dem. Rep.\",\"Korea, Rep.\",\"Kuwait\",\"Lebanon\",\"Lesotho\",\"Liberia\",\"Libya\",\"Madagascar\",\"Malawi\",\"Malaysia\",\"Mali\",\"Mauritania\",\"Mauritius\",\"Mexico\",\"Mongolia\",\"Montenegro\",\"Morocco\",\"Mozambique\",\"Myanmar\",\"Namibia\",\"Nepal\",\"Netherlands\",\"New Zealand\",\"Nicaragua\",\"Niger\",\"Nigeria\",\"Norway\",\"Oman\",\"Pakistan\",\"Panama\",\"Paraguay\",\"Peru\",\"Philippines\",\"Poland\",\"Portugal\",\"Puerto Rico\",\"Reunion\",\"Romania\",\"Rwanda\",\"Sao Tome and Principe\",\"Saudi Arabia\",\"Senegal\",\"Serbia\",\"Sierra Leone\",\"Singapore\",\"Slovak Republic\",\"Slovenia\",\"Somalia\",\"South Africa\",\"Spain\",\"Sri Lanka\",\"Sudan\",\"Swaziland\",\"Sweden\",\"Switzerland\",\"Syria\",\"Taiwan\",\"Tanzania\",\"Thailand\",\"Togo\",\"Trinidad and Tobago\",\"Tunisia\",\"Turkey\",\"Uganda\",\"United Kingdom\",\"United States\",\"Uruguay\",\"Venezuela\",\"Vietnam\",\"West Bank and Gaza\",\"Yemen, Rep.\",\"Zambia\",\"Zimbabwe\",\"Africa\",\"Americas\",\"Asia\",\"Europe\",\"Oceania\"],\"marker\":{\"coloraxis\":\"coloraxis\",\"colors\":[31889923.0,3600523.0,33333216.0,12420476.0,40301927.0,20434176.0,8199783.0,708573.0,150448339.0,10392226.0,8078314.0,9119152.0,4552198.0,1639131.0,190010647.0,7322858.0,14326203.0,8390505.0,14131858.0,17696293.0,33390141.0,4369038.0,10238807.0,16284741.0,1318683096.0,44227550.0,710960.0,64606759.0,3800610.0,4133884.0,18013409.0,4493312.0,11416987.0,10228744.0,5468120.0,496374.0,9319622.0,13755680.0,80264543.0,6939688.0,551201.0,4906585.0,76511887.0,5238460.0,61083916.0,1454867.0,1688359.0,82400996.0,22873338.0,10706290.0,12572928.0,9947814.0,1472041.0,8502814.0,7483763.0,6980412.0,9956108.0,301931.0,1110396331.0,223547000.0,69453570.0,27499638.0,4109086.0,6426679.0,58147733.0,2780132.0,127467972.0,6053193.0,35610177.0,23301725.0,49044790.0,2505559.0,3921278.0,2012649.0,3193942.0,6036914.0,19167654.0,13327079.0,24821286.0,12031795.0,3270065.0,1250882.0,108700890.99999999,2874127.0,684736.0,33757175.0,19951656.0,47761980.0,2055080.0,28901790.0,16570613.0,4115771.0,5675356.0,12894865.0,135031164.0,4627926.0,3204897.0,169270617.0,3242173.0,6667147.0,28674757.0,91077287.0,38518241.0,10642836.0,3942491.0,798094.0,22276056.0,8860588.0,199579.0,27601038.0,12267493.0,10150265.0,6144562.0,4553009.0,5447502.0,2009245.0,9118773.0,43997828.0,40448191.0,20378239.0,42292929.0,1133066.0,9031088.0,7554661.0,19314747.0,23174294.0,38139640.0,65068149.0,5701579.0,1056608.0,10276158.0,71158647.0,29170398.0,60776238.0,301139947.0,3447496.0,26084662.0,85262356.0,4018332.0,22211743.0,11746035.0,12311143.0,51941599.57997472,162462569.95602512,819914126.2938106,47152668.63854205,17698413.75720351]},\"name\":\"\",\"parents\":[\"Asia\",\"Europe\",\"Africa\",\"Africa\",\"Americas\",\"Oceania\",\"Europe\",\"Asia\",\"Asia\",\"Europe\",\"Africa\",\"Americas\",\"Europe\",\"Africa\",\"Americas\",\"Europe\",\"Africa\",\"Africa\",\"Asia\",\"Africa\",\"Americas\",\"Africa\",\"Africa\",\"Americas\",\"Asia\",\"Americas\",\"Africa\",\"Africa\",\"Africa\",\"Americas\",\"Africa\",\"Europe\",\"Americas\",\"Europe\",\"Europe\",\"Africa\",\"Americas\",\"Americas\",\"Africa\",\"Americas\",\"Africa\",\"Africa\",\"Africa\",\"Europe\",\"Europe\",\"Africa\",\"Africa\",\"Europe\",\"Africa\",\"Europe\",\"Americas\",\"Africa\",\"Africa\",\"Americas\",\"Americas\",\"Asia\",\"Europe\",\"Europe\",\"Asia\",\"Asia\",\"Asia\",\"Asia\",\"Europe\",\"Asia\",\"Europe\",\"Americas\",\"Asia\",\"Asia\",\"Africa\",\"Asia\",\"Asia\",\"Asia\",\"Asia\",\"Africa\",\"Africa\",\"Africa\",\"Africa\",\"Africa\",\"Asia\",\"Africa\",\"Africa\",\"Africa\",\"Americas\",\"Asia\",\"Europe\",\"Africa\",\"Africa\",\"Asia\",\"Africa\",\"Asia\",\"Europe\",\"Oceania\",\"Americas\",\"Africa\",\"Africa\",\"Europe\",\"Asia\",\"Asia\",\"Americas\",\"Americas\",\"Americas\",\"Asia\",\"Europe\",\"Europe\",\"Americas\",\"Africa\",\"Europe\",\"Africa\",\"Africa\",\"Asia\",\"Africa\",\"Europe\",\"Africa\",\"Asia\",\"Europe\",\"Europe\",\"Africa\",\"Africa\",\"Europe\",\"Asia\",\"Africa\",\"Africa\",\"Europe\",\"Europe\",\"Asia\",\"Asia\",\"Africa\",\"Asia\",\"Africa\",\"Americas\",\"Africa\",\"Europe\",\"Africa\",\"Europe\",\"Americas\",\"Americas\",\"Americas\",\"Asia\",\"Asia\",\"Asia\",\"Africa\",\"Africa\",\"\",\"\",\"\",\"\",\"\"],\"values\":[31889923,3600523,33333216,12420476,40301927,20434176,8199783,708573,150448339,10392226,8078314,9119152,4552198,1639131,190010647,7322858,14326203,8390505,14131858,17696293,33390141,4369038,10238807,16284741,1318683096,44227550,710960,64606759,3800610,4133884,18013409,4493312,11416987,10228744,5468120,496374,9319622,13755680,80264543,6939688,551201,4906585,76511887,5238460,61083916,1454867,1688359,82400996,22873338,10706290,12572928,9947814,1472041,8502814,7483763,6980412,9956108,301931,1110396331,223547000,69453570,27499638,4109086,6426679,58147733,2780132,127467972,6053193,35610177,23301725,49044790,2505559,3921278,2012649,3193942,6036914,19167654,13327079,24821286,12031795,3270065,1250882,108700891,2874127,684736,33757175,19951656,47761980,2055080,28901790,16570613,4115771,5675356,12894865,135031164,4627926,3204897,169270617,3242173,6667147,28674757,91077287,38518241,10642836,3942491,798094,22276056,8860588,199579,27601038,12267493,10150265,6144562,4553009,5447502,2009245,9118773,43997828,40448191,20378239,42292929,1133066,9031088,7554661,19314747,23174294,38139640,65068149,5701579,1056608,10276158,71158647,29170398,60776238,301139947,3447496,26084662,85262356,4018332,22211743,11746035,12311143,929539692,898871184,3811953827,586098529,24549947],\"type\":\"treemap\"}],                        {\"template\":{\"data\":{\"histogram2dcontour\":[{\"type\":\"histogram2dcontour\",\"colorbar\":{\"outlinewidth\":0,\"ticks\":\"\"},\"colorscale\":[[0.0,\"#0d0887\"],[0.1111111111111111,\"#46039f\"],[0.2222222222222222,\"#7201a8\"],[0.3333333333333333,\"#9c179e\"],[0.4444444444444444,\"#bd3786\"],[0.5555555555555556,\"#d8576b\"],[0.6666666666666666,\"#ed7953\"],[0.7777777777777778,\"#fb9f3a\"],[0.8888888888888888,\"#fdca26\"],[1.0,\"#f0f921\"]]}],\"choropleth\":[{\"type\":\"choropleth\",\"colorbar\":{\"outlinewidth\":0,\"ticks\":\"\"}}],\"histogram2d\":[{\"type\":\"histogram2d\",\"colorbar\":{\"outlinewidth\":0,\"ticks\":\"\"},\"colorscale\":[[0.0,\"#0d0887\"],[0.1111111111111111,\"#46039f\"],[0.2222222222222222,\"#7201a8\"],[0.3333333333333333,\"#9c179e\"],[0.4444444444444444,\"#bd3786\"],[0.5555555555555556,\"#d8576b\"],[0.6666666666666666,\"#ed7953\"],[0.7777777777777778,\"#fb9f3a\"],[0.8888888888888888,\"#fdca26\"],[1.0,\"#f0f921\"]]}],\"heatmap\":[{\"type\":\"heatmap\",\"colorbar\":{\"outlinewidth\":0,\"ticks\":\"\"},\"colorscale\":[[0.0,\"#0d0887\"],[0.1111111111111111,\"#46039f\"],[0.2222222222222222,\"#7201a8\"],[0.3333333333333333,\"#9c179e\"],[0.4444444444444444,\"#bd3786\"],[0.5555555555555556,\"#d8576b\"],[0.6666666666666666,\"#ed7953\"],[0.7777777777777778,\"#fb9f3a\"],[0.8888888888888888,\"#fdca26\"],[1.0,\"#f0f921\"]]}],\"heatmapgl\":[{\"type\":\"heatmapgl\",\"colorbar\":{\"outlinewidth\":0,\"ticks\":\"\"},\"colorscale\":[[0.0,\"#0d0887\"],[0.1111111111111111,\"#46039f\"],[0.2222222222222222,\"#7201a8\"],[0.3333333333333333,\"#9c179e\"],[0.4444444444444444,\"#bd3786\"],[0.5555555555555556,\"#d8576b\"],[0.6666666666666666,\"#ed7953\"],[0.7777777777777778,\"#fb9f3a\"],[0.8888888888888888,\"#fdca26\"],[1.0,\"#f0f921\"]]}],\"contourcarpet\":[{\"type\":\"contourcarpet\",\"colorbar\":{\"outlinewidth\":0,\"ticks\":\"\"}}],\"contour\":[{\"type\":\"contour\",\"colorbar\":{\"outlinewidth\":0,\"ticks\":\"\"},\"colorscale\":[[0.0,\"#0d0887\"],[0.1111111111111111,\"#46039f\"],[0.2222222222222222,\"#7201a8\"],[0.3333333333333333,\"#9c179e\"],[0.4444444444444444,\"#bd3786\"],[0.5555555555555556,\"#d8576b\"],[0.6666666666666666,\"#ed7953\"],[0.7777777777777778,\"#fb9f3a\"],[0.8888888888888888,\"#fdca26\"],[1.0,\"#f0f921\"]]}],\"surface\":[{\"type\":\"surface\",\"colorbar\":{\"outlinewidth\":0,\"ticks\":\"\"},\"colorscale\":[[0.0,\"#0d0887\"],[0.1111111111111111,\"#46039f\"],[0.2222222222222222,\"#7201a8\"],[0.3333333333333333,\"#9c179e\"],[0.4444444444444444,\"#bd3786\"],[0.5555555555555556,\"#d8576b\"],[0.6666666666666666,\"#ed7953\"],[0.7777777777777778,\"#fb9f3a\"],[0.8888888888888888,\"#fdca26\"],[1.0,\"#f0f921\"]]}],\"mesh3d\":[{\"type\":\"mesh3d\",\"colorbar\":{\"outlinewidth\":0,\"ticks\":\"\"}}],\"scatter\":[{\"fillpattern\":{\"fillmode\":\"overlay\",\"size\":10,\"solidity\":0.2},\"type\":\"scatter\"}],\"parcoords\":[{\"type\":\"parcoords\",\"line\":{\"colorbar\":{\"outlinewidth\":0,\"ticks\":\"\"}}}],\"scatterpolargl\":[{\"type\":\"scatterpolargl\",\"marker\":{\"colorbar\":{\"outlinewidth\":0,\"ticks\":\"\"}}}],\"bar\":[{\"error_x\":{\"color\":\"#2a3f5f\"},\"error_y\":{\"color\":\"#2a3f5f\"},\"marker\":{\"line\":{\"color\":\"#E5ECF6\",\"width\":0.5},\"pattern\":{\"fillmode\":\"overlay\",\"size\":10,\"solidity\":0.2}},\"type\":\"bar\"}],\"scattergeo\":[{\"type\":\"scattergeo\",\"marker\":{\"colorbar\":{\"outlinewidth\":0,\"ticks\":\"\"}}}],\"scatterpolar\":[{\"type\":\"scatterpolar\",\"marker\":{\"colorbar\":{\"outlinewidth\":0,\"ticks\":\"\"}}}],\"histogram\":[{\"marker\":{\"pattern\":{\"fillmode\":\"overlay\",\"size\":10,\"solidity\":0.2}},\"type\":\"histogram\"}],\"scattergl\":[{\"type\":\"scattergl\",\"marker\":{\"colorbar\":{\"outlinewidth\":0,\"ticks\":\"\"}}}],\"scatter3d\":[{\"type\":\"scatter3d\",\"line\":{\"colorbar\":{\"outlinewidth\":0,\"ticks\":\"\"}},\"marker\":{\"colorbar\":{\"outlinewidth\":0,\"ticks\":\"\"}}}],\"scattermapbox\":[{\"type\":\"scattermapbox\",\"marker\":{\"colorbar\":{\"outlinewidth\":0,\"ticks\":\"\"}}}],\"scatterternary\":[{\"type\":\"scatterternary\",\"marker\":{\"colorbar\":{\"outlinewidth\":0,\"ticks\":\"\"}}}],\"scattercarpet\":[{\"type\":\"scattercarpet\",\"marker\":{\"colorbar\":{\"outlinewidth\":0,\"ticks\":\"\"}}}],\"carpet\":[{\"aaxis\":{\"endlinecolor\":\"#2a3f5f\",\"gridcolor\":\"white\",\"linecolor\":\"white\",\"minorgridcolor\":\"white\",\"startlinecolor\":\"#2a3f5f\"},\"baxis\":{\"endlinecolor\":\"#2a3f5f\",\"gridcolor\":\"white\",\"linecolor\":\"white\",\"minorgridcolor\":\"white\",\"startlinecolor\":\"#2a3f5f\"},\"type\":\"carpet\"}],\"table\":[{\"cells\":{\"fill\":{\"color\":\"#EBF0F8\"},\"line\":{\"color\":\"white\"}},\"header\":{\"fill\":{\"color\":\"#C8D4E3\"},\"line\":{\"color\":\"white\"}},\"type\":\"table\"}],\"barpolar\":[{\"marker\":{\"line\":{\"color\":\"#E5ECF6\",\"width\":0.5},\"pattern\":{\"fillmode\":\"overlay\",\"size\":10,\"solidity\":0.2}},\"type\":\"barpolar\"}],\"pie\":[{\"automargin\":true,\"type\":\"pie\"}]},\"layout\":{\"autotypenumbers\":\"strict\",\"colorway\":[\"#636efa\",\"#EF553B\",\"#00cc96\",\"#ab63fa\",\"#FFA15A\",\"#19d3f3\",\"#FF6692\",\"#B6E880\",\"#FF97FF\",\"#FECB52\"],\"font\":{\"color\":\"#2a3f5f\"},\"hovermode\":\"closest\",\"hoverlabel\":{\"align\":\"left\"},\"paper_bgcolor\":\"white\",\"plot_bgcolor\":\"#E5ECF6\",\"polar\":{\"bgcolor\":\"#E5ECF6\",\"angularaxis\":{\"gridcolor\":\"white\",\"linecolor\":\"white\",\"ticks\":\"\"},\"radialaxis\":{\"gridcolor\":\"white\",\"linecolor\":\"white\",\"ticks\":\"\"}},\"ternary\":{\"bgcolor\":\"#E5ECF6\",\"aaxis\":{\"gridcolor\":\"white\",\"linecolor\":\"white\",\"ticks\":\"\"},\"baxis\":{\"gridcolor\":\"white\",\"linecolor\":\"white\",\"ticks\":\"\"},\"caxis\":{\"gridcolor\":\"white\",\"linecolor\":\"white\",\"ticks\":\"\"}},\"coloraxis\":{\"colorbar\":{\"outlinewidth\":0,\"ticks\":\"\"}},\"colorscale\":{\"sequential\":[[0.0,\"#0d0887\"],[0.1111111111111111,\"#46039f\"],[0.2222222222222222,\"#7201a8\"],[0.3333333333333333,\"#9c179e\"],[0.4444444444444444,\"#bd3786\"],[0.5555555555555556,\"#d8576b\"],[0.6666666666666666,\"#ed7953\"],[0.7777777777777778,\"#fb9f3a\"],[0.8888888888888888,\"#fdca26\"],[1.0,\"#f0f921\"]],\"sequentialminus\":[[0.0,\"#0d0887\"],[0.1111111111111111,\"#46039f\"],[0.2222222222222222,\"#7201a8\"],[0.3333333333333333,\"#9c179e\"],[0.4444444444444444,\"#bd3786\"],[0.5555555555555556,\"#d8576b\"],[0.6666666666666666,\"#ed7953\"],[0.7777777777777778,\"#fb9f3a\"],[0.8888888888888888,\"#fdca26\"],[1.0,\"#f0f921\"]],\"diverging\":[[0,\"#8e0152\"],[0.1,\"#c51b7d\"],[0.2,\"#de77ae\"],[0.3,\"#f1b6da\"],[0.4,\"#fde0ef\"],[0.5,\"#f7f7f7\"],[0.6,\"#e6f5d0\"],[0.7,\"#b8e186\"],[0.8,\"#7fbc41\"],[0.9,\"#4d9221\"],[1,\"#276419\"]]},\"xaxis\":{\"gridcolor\":\"white\",\"linecolor\":\"white\",\"ticks\":\"\",\"title\":{\"standoff\":15},\"zerolinecolor\":\"white\",\"automargin\":true,\"zerolinewidth\":2},\"yaxis\":{\"gridcolor\":\"white\",\"linecolor\":\"white\",\"ticks\":\"\",\"title\":{\"standoff\":15},\"zerolinecolor\":\"white\",\"automargin\":true,\"zerolinewidth\":2},\"scene\":{\"xaxis\":{\"backgroundcolor\":\"#E5ECF6\",\"gridcolor\":\"white\",\"linecolor\":\"white\",\"showbackground\":true,\"ticks\":\"\",\"zerolinecolor\":\"white\",\"gridwidth\":2},\"yaxis\":{\"backgroundcolor\":\"#E5ECF6\",\"gridcolor\":\"white\",\"linecolor\":\"white\",\"showbackground\":true,\"ticks\":\"\",\"zerolinecolor\":\"white\",\"gridwidth\":2},\"zaxis\":{\"backgroundcolor\":\"#E5ECF6\",\"gridcolor\":\"white\",\"linecolor\":\"white\",\"showbackground\":true,\"ticks\":\"\",\"zerolinecolor\":\"white\",\"gridwidth\":2}},\"shapedefaults\":{\"line\":{\"color\":\"#2a3f5f\"}},\"annotationdefaults\":{\"arrowcolor\":\"#2a3f5f\",\"arrowhead\":0,\"arrowwidth\":1},\"geo\":{\"bgcolor\":\"white\",\"landcolor\":\"#E5ECF6\",\"subunitcolor\":\"white\",\"showland\":true,\"showlakes\":true,\"lakecolor\":\"white\"},\"title\":{\"x\":0.05},\"mapbox\":{\"style\":\"light\"}}},\"coloraxis\":{\"colorbar\":{\"title\":{\"text\":\"pop\"}},\"colorscale\":[[0.0,\"rgb(103,0,31)\"],[0.1,\"rgb(178,24,43)\"],[0.2,\"rgb(214,96,77)\"],[0.3,\"rgb(244,165,130)\"],[0.4,\"rgb(253,219,199)\"],[0.5,\"rgb(247,247,247)\"],[0.6,\"rgb(209,229,240)\"],[0.7,\"rgb(146,197,222)\"],[0.8,\"rgb(67,147,195)\"],[0.9,\"rgb(33,102,172)\"],[1.0,\"rgb(5,48,97)\"]]},\"legend\":{\"tracegroupgap\":0},\"margin\":{\"t\":60}},                        {\"responsive\": true}                    )                };                            </script>        </div>"
      ],
      "text/plain": [
       "Figure({\n",
       "    'data': [{'branchvalues': 'total',\n",
       "              'customdata': array([[3.18899230e+07],\n",
       "                                   [3.60052300e+06],\n",
       "                                   [3.33332160e+07],\n",
       "                                   [1.24204760e+07],\n",
       "                                   [4.03019270e+07],\n",
       "                                   [2.04341760e+07],\n",
       "                                   [8.19978300e+06],\n",
       "                                   [7.08573000e+05],\n",
       "                                   [1.50448339e+08],\n",
       "                                   [1.03922260e+07],\n",
       "                                   [8.07831400e+06],\n",
       "                                   [9.11915200e+06],\n",
       "                                   [4.55219800e+06],\n",
       "                                   [1.63913100e+06],\n",
       "                                   [1.90010647e+08],\n",
       "                                   [7.32285800e+06],\n",
       "                                   [1.43262030e+07],\n",
       "                                   [8.39050500e+06],\n",
       "                                   [1.41318580e+07],\n",
       "                                   [1.76962930e+07],\n",
       "                                   [3.33901410e+07],\n",
       "                                   [4.36903800e+06],\n",
       "                                   [1.02388070e+07],\n",
       "                                   [1.62847410e+07],\n",
       "                                   [1.31868310e+09],\n",
       "                                   [4.42275500e+07],\n",
       "                                   [7.10960000e+05],\n",
       "                                   [6.46067590e+07],\n",
       "                                   [3.80061000e+06],\n",
       "                                   [4.13388400e+06],\n",
       "                                   [1.80134090e+07],\n",
       "                                   [4.49331200e+06],\n",
       "                                   [1.14169870e+07],\n",
       "                                   [1.02287440e+07],\n",
       "                                   [5.46812000e+06],\n",
       "                                   [4.96374000e+05],\n",
       "                                   [9.31962200e+06],\n",
       "                                   [1.37556800e+07],\n",
       "                                   [8.02645430e+07],\n",
       "                                   [6.93968800e+06],\n",
       "                                   [5.51201000e+05],\n",
       "                                   [4.90658500e+06],\n",
       "                                   [7.65118870e+07],\n",
       "                                   [5.23846000e+06],\n",
       "                                   [6.10839160e+07],\n",
       "                                   [1.45486700e+06],\n",
       "                                   [1.68835900e+06],\n",
       "                                   [8.24009960e+07],\n",
       "                                   [2.28733380e+07],\n",
       "                                   [1.07062900e+07],\n",
       "                                   [1.25729280e+07],\n",
       "                                   [9.94781400e+06],\n",
       "                                   [1.47204100e+06],\n",
       "                                   [8.50281400e+06],\n",
       "                                   [7.48376300e+06],\n",
       "                                   [6.98041200e+06],\n",
       "                                   [9.95610800e+06],\n",
       "                                   [3.01931000e+05],\n",
       "                                   [1.11039633e+09],\n",
       "                                   [2.23547000e+08],\n",
       "                                   [6.94535700e+07],\n",
       "                                   [2.74996380e+07],\n",
       "                                   [4.10908600e+06],\n",
       "                                   [6.42667900e+06],\n",
       "                                   [5.81477330e+07],\n",
       "                                   [2.78013200e+06],\n",
       "                                   [1.27467972e+08],\n",
       "                                   [6.05319300e+06],\n",
       "                                   [3.56101770e+07],\n",
       "                                   [2.33017250e+07],\n",
       "                                   [4.90447900e+07],\n",
       "                                   [2.50555900e+06],\n",
       "                                   [3.92127800e+06],\n",
       "                                   [2.01264900e+06],\n",
       "                                   [3.19394200e+06],\n",
       "                                   [6.03691400e+06],\n",
       "                                   [1.91676540e+07],\n",
       "                                   [1.33270790e+07],\n",
       "                                   [2.48212860e+07],\n",
       "                                   [1.20317950e+07],\n",
       "                                   [3.27006500e+06],\n",
       "                                   [1.25088200e+06],\n",
       "                                   [1.08700891e+08],\n",
       "                                   [2.87412700e+06],\n",
       "                                   [6.84736000e+05],\n",
       "                                   [3.37571750e+07],\n",
       "                                   [1.99516560e+07],\n",
       "                                   [4.77619800e+07],\n",
       "                                   [2.05508000e+06],\n",
       "                                   [2.89017900e+07],\n",
       "                                   [1.65706130e+07],\n",
       "                                   [4.11577100e+06],\n",
       "                                   [5.67535600e+06],\n",
       "                                   [1.28948650e+07],\n",
       "                                   [1.35031164e+08],\n",
       "                                   [4.62792600e+06],\n",
       "                                   [3.20489700e+06],\n",
       "                                   [1.69270617e+08],\n",
       "                                   [3.24217300e+06],\n",
       "                                   [6.66714700e+06],\n",
       "                                   [2.86747570e+07],\n",
       "                                   [9.10772870e+07],\n",
       "                                   [3.85182410e+07],\n",
       "                                   [1.06428360e+07],\n",
       "                                   [3.94249100e+06],\n",
       "                                   [7.98094000e+05],\n",
       "                                   [2.22760560e+07],\n",
       "                                   [8.86058800e+06],\n",
       "                                   [1.99579000e+05],\n",
       "                                   [2.76010380e+07],\n",
       "                                   [1.22674930e+07],\n",
       "                                   [1.01502650e+07],\n",
       "                                   [6.14456200e+06],\n",
       "                                   [4.55300900e+06],\n",
       "                                   [5.44750200e+06],\n",
       "                                   [2.00924500e+06],\n",
       "                                   [9.11877300e+06],\n",
       "                                   [4.39978280e+07],\n",
       "                                   [4.04481910e+07],\n",
       "                                   [2.03782390e+07],\n",
       "                                   [4.22929290e+07],\n",
       "                                   [1.13306600e+06],\n",
       "                                   [9.03108800e+06],\n",
       "                                   [7.55466100e+06],\n",
       "                                   [1.93147470e+07],\n",
       "                                   [2.31742940e+07],\n",
       "                                   [3.81396400e+07],\n",
       "                                   [6.50681490e+07],\n",
       "                                   [5.70157900e+06],\n",
       "                                   [1.05660800e+06],\n",
       "                                   [1.02761580e+07],\n",
       "                                   [7.11586470e+07],\n",
       "                                   [2.91703980e+07],\n",
       "                                   [6.07762380e+07],\n",
       "                                   [3.01139947e+08],\n",
       "                                   [3.44749600e+06],\n",
       "                                   [2.60846620e+07],\n",
       "                                   [8.52623560e+07],\n",
       "                                   [4.01833200e+06],\n",
       "                                   [2.22117430e+07],\n",
       "                                   [1.17460350e+07],\n",
       "                                   [1.23111430e+07],\n",
       "                                   [5.19415996e+07],\n",
       "                                   [1.62462570e+08],\n",
       "                                   [8.19914126e+08],\n",
       "                                   [4.71526686e+07],\n",
       "                                   [1.76984138e+07]]),\n",
       "              'domain': {'x': [0.0, 1.0], 'y': [0.0, 1.0]},\n",
       "              'hovertemplate': ('labels=%{label}<br>pop_sum=%{v' ... 'br>pop=%{color}<extra></extra>'),\n",
       "              'ids': array(['Asia/Afghanistan', 'Europe/Albania', 'Africa/Algeria', 'Africa/Angola',\n",
       "                            'Americas/Argentina', 'Oceania/Australia', 'Europe/Austria',\n",
       "                            'Asia/Bahrain', 'Asia/Bangladesh', 'Europe/Belgium', 'Africa/Benin',\n",
       "                            'Americas/Bolivia', 'Europe/Bosnia and Herzegovina', 'Africa/Botswana',\n",
       "                            'Americas/Brazil', 'Europe/Bulgaria', 'Africa/Burkina Faso',\n",
       "                            'Africa/Burundi', 'Asia/Cambodia', 'Africa/Cameroon', 'Americas/Canada',\n",
       "                            'Africa/Central African Republic', 'Africa/Chad', 'Americas/Chile',\n",
       "                            'Asia/China', 'Americas/Colombia', 'Africa/Comoros',\n",
       "                            'Africa/Congo, Dem. Rep.', 'Africa/Congo, Rep.', 'Americas/Costa Rica',\n",
       "                            \"Africa/Cote d'Ivoire\", 'Europe/Croatia', 'Americas/Cuba',\n",
       "                            'Europe/Czech Republic', 'Europe/Denmark', 'Africa/Djibouti',\n",
       "                            'Americas/Dominican Republic', 'Americas/Ecuador', 'Africa/Egypt',\n",
       "                            'Americas/El Salvador', 'Africa/Equatorial Guinea', 'Africa/Eritrea',\n",
       "                            'Africa/Ethiopia', 'Europe/Finland', 'Europe/France', 'Africa/Gabon',\n",
       "                            'Africa/Gambia', 'Europe/Germany', 'Africa/Ghana', 'Europe/Greece',\n",
       "                            'Americas/Guatemala', 'Africa/Guinea', 'Africa/Guinea-Bissau',\n",
       "                            'Americas/Haiti', 'Americas/Honduras', 'Asia/Hong Kong, China',\n",
       "                            'Europe/Hungary', 'Europe/Iceland', 'Asia/India', 'Asia/Indonesia',\n",
       "                            'Asia/Iran', 'Asia/Iraq', 'Europe/Ireland', 'Asia/Israel',\n",
       "                            'Europe/Italy', 'Americas/Jamaica', 'Asia/Japan', 'Asia/Jordan',\n",
       "                            'Africa/Kenya', 'Asia/Korea, Dem. Rep.', 'Asia/Korea, Rep.',\n",
       "                            'Asia/Kuwait', 'Asia/Lebanon', 'Africa/Lesotho', 'Africa/Liberia',\n",
       "                            'Africa/Libya', 'Africa/Madagascar', 'Africa/Malawi', 'Asia/Malaysia',\n",
       "                            'Africa/Mali', 'Africa/Mauritania', 'Africa/Mauritius',\n",
       "                            'Americas/Mexico', 'Asia/Mongolia', 'Europe/Montenegro',\n",
       "                            'Africa/Morocco', 'Africa/Mozambique', 'Asia/Myanmar', 'Africa/Namibia',\n",
       "                            'Asia/Nepal', 'Europe/Netherlands', 'Oceania/New Zealand',\n",
       "                            'Americas/Nicaragua', 'Africa/Niger', 'Africa/Nigeria', 'Europe/Norway',\n",
       "                            'Asia/Oman', 'Asia/Pakistan', 'Americas/Panama', 'Americas/Paraguay',\n",
       "                            'Americas/Peru', 'Asia/Philippines', 'Europe/Poland', 'Europe/Portugal',\n",
       "                            'Americas/Puerto Rico', 'Africa/Reunion', 'Europe/Romania',\n",
       "                            'Africa/Rwanda', 'Africa/Sao Tome and Principe', 'Asia/Saudi Arabia',\n",
       "                            'Africa/Senegal', 'Europe/Serbia', 'Africa/Sierra Leone',\n",
       "                            'Asia/Singapore', 'Europe/Slovak Republic', 'Europe/Slovenia',\n",
       "                            'Africa/Somalia', 'Africa/South Africa', 'Europe/Spain',\n",
       "                            'Asia/Sri Lanka', 'Africa/Sudan', 'Africa/Swaziland', 'Europe/Sweden',\n",
       "                            'Europe/Switzerland', 'Asia/Syria', 'Asia/Taiwan', 'Africa/Tanzania',\n",
       "                            'Asia/Thailand', 'Africa/Togo', 'Americas/Trinidad and Tobago',\n",
       "                            'Africa/Tunisia', 'Europe/Turkey', 'Africa/Uganda',\n",
       "                            'Europe/United Kingdom', 'Americas/United States', 'Americas/Uruguay',\n",
       "                            'Americas/Venezuela', 'Asia/Vietnam', 'Asia/West Bank and Gaza',\n",
       "                            'Asia/Yemen, Rep.', 'Africa/Zambia', 'Africa/Zimbabwe', 'Africa',\n",
       "                            'Americas', 'Asia', 'Europe', 'Oceania'], dtype=object),\n",
       "              'labels': array(['Afghanistan', 'Albania', 'Algeria', 'Angola', 'Argentina', 'Australia',\n",
       "                               'Austria', 'Bahrain', 'Bangladesh', 'Belgium', 'Benin', 'Bolivia',\n",
       "                               'Bosnia and Herzegovina', 'Botswana', 'Brazil', 'Bulgaria',\n",
       "                               'Burkina Faso', 'Burundi', 'Cambodia', 'Cameroon', 'Canada',\n",
       "                               'Central African Republic', 'Chad', 'Chile', 'China', 'Colombia',\n",
       "                               'Comoros', 'Congo, Dem. Rep.', 'Congo, Rep.', 'Costa Rica',\n",
       "                               \"Cote d'Ivoire\", 'Croatia', 'Cuba', 'Czech Republic', 'Denmark',\n",
       "                               'Djibouti', 'Dominican Republic', 'Ecuador', 'Egypt', 'El Salvador',\n",
       "                               'Equatorial Guinea', 'Eritrea', 'Ethiopia', 'Finland', 'France',\n",
       "                               'Gabon', 'Gambia', 'Germany', 'Ghana', 'Greece', 'Guatemala', 'Guinea',\n",
       "                               'Guinea-Bissau', 'Haiti', 'Honduras', 'Hong Kong, China', 'Hungary',\n",
       "                               'Iceland', 'India', 'Indonesia', 'Iran', 'Iraq', 'Ireland', 'Israel',\n",
       "                               'Italy', 'Jamaica', 'Japan', 'Jordan', 'Kenya', 'Korea, Dem. Rep.',\n",
       "                               'Korea, Rep.', 'Kuwait', 'Lebanon', 'Lesotho', 'Liberia', 'Libya',\n",
       "                               'Madagascar', 'Malawi', 'Malaysia', 'Mali', 'Mauritania', 'Mauritius',\n",
       "                               'Mexico', 'Mongolia', 'Montenegro', 'Morocco', 'Mozambique', 'Myanmar',\n",
       "                               'Namibia', 'Nepal', 'Netherlands', 'New Zealand', 'Nicaragua', 'Niger',\n",
       "                               'Nigeria', 'Norway', 'Oman', 'Pakistan', 'Panama', 'Paraguay', 'Peru',\n",
       "                               'Philippines', 'Poland', 'Portugal', 'Puerto Rico', 'Reunion',\n",
       "                               'Romania', 'Rwanda', 'Sao Tome and Principe', 'Saudi Arabia', 'Senegal',\n",
       "                               'Serbia', 'Sierra Leone', 'Singapore', 'Slovak Republic', 'Slovenia',\n",
       "                               'Somalia', 'South Africa', 'Spain', 'Sri Lanka', 'Sudan', 'Swaziland',\n",
       "                               'Sweden', 'Switzerland', 'Syria', 'Taiwan', 'Tanzania', 'Thailand',\n",
       "                               'Togo', 'Trinidad and Tobago', 'Tunisia', 'Turkey', 'Uganda',\n",
       "                               'United Kingdom', 'United States', 'Uruguay', 'Venezuela', 'Vietnam',\n",
       "                               'West Bank and Gaza', 'Yemen, Rep.', 'Zambia', 'Zimbabwe', 'Africa',\n",
       "                               'Americas', 'Asia', 'Europe', 'Oceania'], dtype=object),\n",
       "              'marker': {'coloraxis': 'coloraxis',\n",
       "                         'colors': array([3.18899230e+07, 3.60052300e+06, 3.33332160e+07, 1.24204760e+07,\n",
       "                                          4.03019270e+07, 2.04341760e+07, 8.19978300e+06, 7.08573000e+05,\n",
       "                                          1.50448339e+08, 1.03922260e+07, 8.07831400e+06, 9.11915200e+06,\n",
       "                                          4.55219800e+06, 1.63913100e+06, 1.90010647e+08, 7.32285800e+06,\n",
       "                                          1.43262030e+07, 8.39050500e+06, 1.41318580e+07, 1.76962930e+07,\n",
       "                                          3.33901410e+07, 4.36903800e+06, 1.02388070e+07, 1.62847410e+07,\n",
       "                                          1.31868310e+09, 4.42275500e+07, 7.10960000e+05, 6.46067590e+07,\n",
       "                                          3.80061000e+06, 4.13388400e+06, 1.80134090e+07, 4.49331200e+06,\n",
       "                                          1.14169870e+07, 1.02287440e+07, 5.46812000e+06, 4.96374000e+05,\n",
       "                                          9.31962200e+06, 1.37556800e+07, 8.02645430e+07, 6.93968800e+06,\n",
       "                                          5.51201000e+05, 4.90658500e+06, 7.65118870e+07, 5.23846000e+06,\n",
       "                                          6.10839160e+07, 1.45486700e+06, 1.68835900e+06, 8.24009960e+07,\n",
       "                                          2.28733380e+07, 1.07062900e+07, 1.25729280e+07, 9.94781400e+06,\n",
       "                                          1.47204100e+06, 8.50281400e+06, 7.48376300e+06, 6.98041200e+06,\n",
       "                                          9.95610800e+06, 3.01931000e+05, 1.11039633e+09, 2.23547000e+08,\n",
       "                                          6.94535700e+07, 2.74996380e+07, 4.10908600e+06, 6.42667900e+06,\n",
       "                                          5.81477330e+07, 2.78013200e+06, 1.27467972e+08, 6.05319300e+06,\n",
       "                                          3.56101770e+07, 2.33017250e+07, 4.90447900e+07, 2.50555900e+06,\n",
       "                                          3.92127800e+06, 2.01264900e+06, 3.19394200e+06, 6.03691400e+06,\n",
       "                                          1.91676540e+07, 1.33270790e+07, 2.48212860e+07, 1.20317950e+07,\n",
       "                                          3.27006500e+06, 1.25088200e+06, 1.08700891e+08, 2.87412700e+06,\n",
       "                                          6.84736000e+05, 3.37571750e+07, 1.99516560e+07, 4.77619800e+07,\n",
       "                                          2.05508000e+06, 2.89017900e+07, 1.65706130e+07, 4.11577100e+06,\n",
       "                                          5.67535600e+06, 1.28948650e+07, 1.35031164e+08, 4.62792600e+06,\n",
       "                                          3.20489700e+06, 1.69270617e+08, 3.24217300e+06, 6.66714700e+06,\n",
       "                                          2.86747570e+07, 9.10772870e+07, 3.85182410e+07, 1.06428360e+07,\n",
       "                                          3.94249100e+06, 7.98094000e+05, 2.22760560e+07, 8.86058800e+06,\n",
       "                                          1.99579000e+05, 2.76010380e+07, 1.22674930e+07, 1.01502650e+07,\n",
       "                                          6.14456200e+06, 4.55300900e+06, 5.44750200e+06, 2.00924500e+06,\n",
       "                                          9.11877300e+06, 4.39978280e+07, 4.04481910e+07, 2.03782390e+07,\n",
       "                                          4.22929290e+07, 1.13306600e+06, 9.03108800e+06, 7.55466100e+06,\n",
       "                                          1.93147470e+07, 2.31742940e+07, 3.81396400e+07, 6.50681490e+07,\n",
       "                                          5.70157900e+06, 1.05660800e+06, 1.02761580e+07, 7.11586470e+07,\n",
       "                                          2.91703980e+07, 6.07762380e+07, 3.01139947e+08, 3.44749600e+06,\n",
       "                                          2.60846620e+07, 8.52623560e+07, 4.01833200e+06, 2.22117430e+07,\n",
       "                                          1.17460350e+07, 1.23111430e+07, 5.19415996e+07, 1.62462570e+08,\n",
       "                                          8.19914126e+08, 4.71526686e+07, 1.76984138e+07])},\n",
       "              'name': '',\n",
       "              'parents': array(['Asia', 'Europe', 'Africa', 'Africa', 'Americas', 'Oceania', 'Europe',\n",
       "                                'Asia', 'Asia', 'Europe', 'Africa', 'Americas', 'Europe', 'Africa',\n",
       "                                'Americas', 'Europe', 'Africa', 'Africa', 'Asia', 'Africa', 'Americas',\n",
       "                                'Africa', 'Africa', 'Americas', 'Asia', 'Americas', 'Africa', 'Africa',\n",
       "                                'Africa', 'Americas', 'Africa', 'Europe', 'Americas', 'Europe',\n",
       "                                'Europe', 'Africa', 'Americas', 'Americas', 'Africa', 'Americas',\n",
       "                                'Africa', 'Africa', 'Africa', 'Europe', 'Europe', 'Africa', 'Africa',\n",
       "                                'Europe', 'Africa', 'Europe', 'Americas', 'Africa', 'Africa',\n",
       "                                'Americas', 'Americas', 'Asia', 'Europe', 'Europe', 'Asia', 'Asia',\n",
       "                                'Asia', 'Asia', 'Europe', 'Asia', 'Europe', 'Americas', 'Asia', 'Asia',\n",
       "                                'Africa', 'Asia', 'Asia', 'Asia', 'Asia', 'Africa', 'Africa', 'Africa',\n",
       "                                'Africa', 'Africa', 'Asia', 'Africa', 'Africa', 'Africa', 'Americas',\n",
       "                                'Asia', 'Europe', 'Africa', 'Africa', 'Asia', 'Africa', 'Asia',\n",
       "                                'Europe', 'Oceania', 'Americas', 'Africa', 'Africa', 'Europe', 'Asia',\n",
       "                                'Asia', 'Americas', 'Americas', 'Americas', 'Asia', 'Europe', 'Europe',\n",
       "                                'Americas', 'Africa', 'Europe', 'Africa', 'Africa', 'Asia', 'Africa',\n",
       "                                'Europe', 'Africa', 'Asia', 'Europe', 'Europe', 'Africa', 'Africa',\n",
       "                                'Europe', 'Asia', 'Africa', 'Africa', 'Europe', 'Europe', 'Asia',\n",
       "                                'Asia', 'Africa', 'Asia', 'Africa', 'Americas', 'Africa', 'Europe',\n",
       "                                'Africa', 'Europe', 'Americas', 'Americas', 'Americas', 'Asia', 'Asia',\n",
       "                                'Asia', 'Africa', 'Africa', '', '', '', '', ''], dtype=object),\n",
       "              'type': 'treemap',\n",
       "              'values': array([  31889923,    3600523,   33333216,   12420476,   40301927,   20434176,\n",
       "                                  8199783,     708573,  150448339,   10392226,    8078314,    9119152,\n",
       "                                  4552198,    1639131,  190010647,    7322858,   14326203,    8390505,\n",
       "                                 14131858,   17696293,   33390141,    4369038,   10238807,   16284741,\n",
       "                               1318683096,   44227550,     710960,   64606759,    3800610,    4133884,\n",
       "                                 18013409,    4493312,   11416987,   10228744,    5468120,     496374,\n",
       "                                  9319622,   13755680,   80264543,    6939688,     551201,    4906585,\n",
       "                                 76511887,    5238460,   61083916,    1454867,    1688359,   82400996,\n",
       "                                 22873338,   10706290,   12572928,    9947814,    1472041,    8502814,\n",
       "                                  7483763,    6980412,    9956108,     301931, 1110396331,  223547000,\n",
       "                                 69453570,   27499638,    4109086,    6426679,   58147733,    2780132,\n",
       "                                127467972,    6053193,   35610177,   23301725,   49044790,    2505559,\n",
       "                                  3921278,    2012649,    3193942,    6036914,   19167654,   13327079,\n",
       "                                 24821286,   12031795,    3270065,    1250882,  108700891,    2874127,\n",
       "                                   684736,   33757175,   19951656,   47761980,    2055080,   28901790,\n",
       "                                 16570613,    4115771,    5675356,   12894865,  135031164,    4627926,\n",
       "                                  3204897,  169270617,    3242173,    6667147,   28674757,   91077287,\n",
       "                                 38518241,   10642836,    3942491,     798094,   22276056,    8860588,\n",
       "                                   199579,   27601038,   12267493,   10150265,    6144562,    4553009,\n",
       "                                  5447502,    2009245,    9118773,   43997828,   40448191,   20378239,\n",
       "                                 42292929,    1133066,    9031088,    7554661,   19314747,   23174294,\n",
       "                                 38139640,   65068149,    5701579,    1056608,   10276158,   71158647,\n",
       "                                 29170398,   60776238,  301139947,    3447496,   26084662,   85262356,\n",
       "                                  4018332,   22211743,   11746035,   12311143,  929539692,  898871184,\n",
       "                               3811953827,  586098529,   24549947], dtype=int64)}],\n",
       "    'layout': {'coloraxis': {'colorbar': {'title': {'text': 'pop'}},\n",
       "                             'colorscale': [[0.0, 'rgb(103,0,31)'], [0.1,\n",
       "                                            'rgb(178,24,43)'], [0.2,\n",
       "                                            'rgb(214,96,77)'], [0.3,\n",
       "                                            'rgb(244,165,130)'], [0.4,\n",
       "                                            'rgb(253,219,199)'], [0.5,\n",
       "                                            'rgb(247,247,247)'], [0.6,\n",
       "                                            'rgb(209,229,240)'], [0.7,\n",
       "                                            'rgb(146,197,222)'], [0.8,\n",
       "                                            'rgb(67,147,195)'], [0.9,\n",
       "                                            'rgb(33,102,172)'], [1.0,\n",
       "                                            'rgb(5,48,97)']]},\n",
       "               'legend': {'tracegroupgap': 0},\n",
       "               'margin': {'t': 60},\n",
       "               'template': '...'}\n",
       "})"
      ]
     },
     "execution_count": 48,
     "metadata": {},
     "output_type": "execute_result"
    }
   ],
   "source": [
    "px.treemap(df, path=['continent','country'], values='pop', color='pop', color_continuous_scale='rdbu')"
   ]
  }
 ],
 "metadata": {
  "kernelspec": {
   "display_name": "Python 3",
   "language": "python",
   "name": "python3"
  },
  "language_info": {
   "codemirror_mode": {
    "name": "ipython",
    "version": 3
   },
   "file_extension": ".py",
   "mimetype": "text/x-python",
   "name": "python",
   "nbconvert_exporter": "python",
   "pygments_lexer": "ipython3",
   "version": "3.11.5"
  }
 },
 "nbformat": 4,
 "nbformat_minor": 2
}
